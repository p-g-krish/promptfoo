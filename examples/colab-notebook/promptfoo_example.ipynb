{
 "cells": [
  {
   "cell_type": "markdown",
   "metadata": {
    "id": "uK0lOwXqCcci"
   },
   "source": [
    "# Promptfoo Python Integration Guide\n",
    "\n",
    "This notebook demonstrates how to use promptfoo with Python in Google Colab:\n",
    "\n",
    "1. **Setup**: Install Node.js 22 and promptfoo\n",
    "2. **Basic Evaluation**: Compare multiple LLM models with different prompts\n",
    "3. **Python Integration**: Evaluate custom Python code alongside LLMs\n",
    "4. **Advanced Examples**: Multiple Python adapters and use cases\n",
    "\n",
    "**What you'll learn:**\n",
    "- Multi-model comparisons (o1-mini, GPT-4o-mini, Claude-3.5-Sonnet)\n",
    "- Custom Python provider evaluation\n",
    "- LangChain integration patterns\n",
    "- Web-based result analysis\n",
    "\n"
   ]
  },
  {
   "cell_type": "markdown",
   "metadata": {
    "id": "5yj5q5FMSn6v"
   },
   "source": [
    "# Node/Promptfoo setup"
   ]
  },
  {
   "cell_type": "markdown",
   "metadata": {
    "id": "qBI5MsRN-mw9"
   },
   "source": [
    "Install Node.js 22 (required for promptfoo). Colab comes with an older version, so we'll upgrade it."
   ]
  },
  {
   "cell_type": "code",
   "execution_count": null,
   "metadata": {
    "id": "CLsWqecMRPNn"
   },
   "outputs": [],
   "source": [
    "# Install Node.js 22 (required for promptfoo)\n",
    "# Colab comes with Node 18, but we'll upgrade to Node 22 for best compatibility\n",
    "!curl -fsSL https://deb.nodesource.com/setup_22.x | sudo -E bash -\n",
    "!sudo apt-get install -y nodejs\n",
    "\n",
    "# Verify installation\n",
    "!node --version\n",
    "!npm --version"
   ]
  },
  {
   "cell_type": "markdown",
   "metadata": {
    "id": "n61ejK4u-tFy"
   },
   "source": [
    "Next, we'll install and initialize promptfoo."
   ]
  },
  {
   "cell_type": "code",
   "execution_count": 2,
   "metadata": {
    "colab": {
     "base_uri": "https://localhost:8080/"
    },
    "id": "WNzZutVjRab-",
    "outputId": "547a1c03-a9ed-484c-ecf7-38ddb101ef21"
   },
   "outputs": [
    {
     "name": "stdout",
     "output_type": "stream",
     "text": [
      "env: npm_config_yes=true\n",
      "\u001b[32m\u001b[1mWrote prompts.txt and promptfooconfig.yaml. Open README.md to get started!\u001b[22m\u001b[39m\n"
     ]
    }
   ],
   "source": [
    "# Set up promptfoo\n",
    "%env npm_config_yes=true\n",
    "!npx promptfoo@latest init"
   ]
  },
  {
   "cell_type": "markdown",
   "metadata": {
    "id": "BWbwGrFLSzzQ"
   },
   "source": [
    "# Configure promptfoo"
   ]
  },
  {
   "cell_type": "markdown",
   "metadata": {
    "id": "4WtI9tXZ98sB"
   },
   "source": [
    "First, we set up the prompts. See https://promptfoo.dev/docs/configuration/parameters for more info on prompt files."
   ]
  },
  {
   "cell_type": "code",
   "execution_count": 3,
   "metadata": {
    "colab": {
     "base_uri": "https://localhost:8080/"
    },
    "id": "8bgtMk0n86yj",
    "outputId": "ce1392af-5271-4d97-9832-c912f3588e3e"
   },
   "outputs": [
    {
     "name": "stdout",
     "output_type": "stream",
     "text": [
      "Overwriting prompts.txt\n"
     ]
    }
   ],
   "source": [
    "%%writefile prompts.txt\n",
    "You're an ecommerce chat assistant for a shoe company.\n",
    "Answer this user's question: {{name}}: \"{{question}}\"\n",
    "---\n",
    "You're a smart, bubbly chat assistant for a shoe company.\n",
    "Answer this user's question: {{name}}: \"{{question}}\""
   ]
  },
  {
   "cell_type": "markdown",
   "metadata": {
    "id": "T_zcpupd14Rm"
   },
   "source": [
    "Next, we set up the configuration. See https://promptfoo.dev/docs/configuration/guide for more info on configuration."
   ]
  },
  {
   "cell_type": "code",
   "execution_count": 4,
   "metadata": {
    "colab": {
     "base_uri": "https://localhost:8080/"
    },
    "id": "EUst0Tmv9Pfy",
    "outputId": "533b38c5-af6a-4265-a3e9-dd2c7f0a5e04"
   },
   "outputs": [
    {
     "name": "stdout",
     "output_type": "stream",
     "text": [
      "Overwriting promptfooconfig.yaml\n"
     ]
    }
   ],
   "source": [
    "%%writefile promptfooconfig.yaml\n",
    "# yaml-language-server: $schema=https://promptfoo.dev/config-schema.json\n",
    "description: \"E-commerce chat assistant evaluation across latest models\"\n",
    "prompts: [prompts.txt]\n",
    "providers: \n",
    "  - openai:o1-mini\n",
    "  - openai:gpt-4.1-mini\n",
    "  - anthropic:claude-3-5-sonnet-20241022\n",
    "tests:\n",
    "  - vars:\n",
    "      name: Bob\n",
    "      question: Can you help me find a pair of sandals on your website?\n",
    "    assert:\n",
    "      - type: contains\n",
    "        value: sandals\n",
    "      - type: python\n",
    "        value: \"len(output) > 50 and 'helpful' in output.lower()\"\n",
    "      - type: llm-rubric\n",
    "        value: \"Response is helpful and professional for an e-commerce site\"\n",
    "  - vars:\n",
    "      name: Jane\n",
    "      question: Do you have any discounts available?\n",
    "    assert:\n",
    "      - type: contains\n",
    "        value: discount\n",
    "      - type: python\n",
    "        value: |\n",
    "          # Check if response mentions specific discount types\n",
    "          discount_types = ['sale', 'coupon', 'promo', 'percent', '%', 'off']\n",
    "          return any(word in output.lower() for word in discount_types)\n",
    "  - vars:\n",
    "      name: Dave\n",
    "      question: What are your shipping and return policies?\n",
    "    assert:\n",
    "      - type: contains\n",
    "        value: shipping\n",
    "      - type: python\n",
    "        value: |\n",
    "          # Custom scoring for policy completeness\n",
    "          policy_elements = ['shipping', 'return', 'exchange', 'refund']\n",
    "          score = sum(1 for element in policy_elements if element in output.lower()) / len(policy_elements)\n",
    "          return {\n",
    "            'pass': score > 0.5,\n",
    "            'score': score,\n",
    "            'reason': f'Policy completeness: {score:.1%}'\n",
    "          }"
   ]
  },
  {
   "cell_type": "markdown",
   "metadata": {
    "id": "5K21inptxl73"
   },
   "source": [
    "# Set up secrets"
   ]
  },
  {
   "cell_type": "markdown",
   "metadata": {
    "id": "2u7gsi86xqoC"
   },
   "source": [
    "This section loads API keys for the LLM providers we'll be testing.\n",
    "\n",
    "**Option 1: Google Drive secrets.json** (recommended for this notebook):\n",
    "\n",
    "Create `/content/drive/MyDrive/Projects/promptfoo/secrets.json`:\n",
    "```json\n",
    "{\n",
    "  \"OPENAI_API_KEY\": \"sk-abc123...\",\n",
    "  \"ANTHROPIC_API_KEY\": \"sk-ant-api03-abc123...\"\n",
    "}\n",
    "```\n",
    "\n",
    "**Option 2: Colab Secrets** (alternative):\n",
    "Use Colab's built-in secrets management (🔑 icon in sidebar)."
   ]
  },
  {
   "cell_type": "code",
   "execution_count": 5,
   "metadata": {
    "colab": {
     "base_uri": "https://localhost:8080/"
    },
    "id": "OBPVTKY_x0kY",
    "outputId": "ae01f547-641c-4724-f762-d0daad678abf"
   },
   "outputs": [
    {
     "name": "stdout",
     "output_type": "stream",
     "text": [
      "Drive already mounted at /content/drive; to attempt to forcibly remount, call drive.mount(\"/content/drive\", force_remount=True).\n"
     ]
    }
   ],
   "source": [
    "from google.colab import drive\n",
    "\n",
    "drive.mount(\"/content/drive\")"
   ]
  },
  {
   "cell_type": "code",
   "execution_count": 6,
   "metadata": {
    "id": "jYr-v2_Cx-BL"
   },
   "outputs": [],
   "source": [
    "import json\n",
    "import os\n",
    "\n",
    "with open(\"/content/drive/MyDrive/Projects/promptfoo/secrets.json\") as f:\n",
    "    secrets = json.load(f)\n",
    "\n",
    "for key, value in secrets.items():\n",
    "    os.environ[key] = value"
   ]
  },
  {
   "cell_type": "markdown",
   "metadata": {
    "id": "yDgQDQiKvKCN"
   },
   "source": [
    "# Run the eval"
   ]
  },
  {
   "cell_type": "markdown",
   "metadata": {
    "id": "cdJXjemM1UDK"
   },
   "source": [
    "First, run the eval - this will produce a quick side-by-side table view."
   ]
  },
  {
   "cell_type": "code",
   "execution_count": 7,
   "metadata": {
    "colab": {
     "base_uri": "https://localhost:8080/"
    },
    "id": "d5hZGY2svL6D",
    "outputId": "756f850d-0641-4a58-f551-03b6c9d33248"
   },
   "outputs": [
    {
     "name": "stdout",
     "output_type": "stream",
     "text": [
      "Creating cache folder at /root/.promptfoo/cache.\n",
      "\n",
      "\u001b[90m┌────────────────────\u001b[39m\u001b[90m┬────────────────────\u001b[39m\u001b[90m┬────────────────────\u001b[39m\u001b[90m┬────────────────────\u001b[39m\u001b[90m┬────────────────────\u001b[39m\u001b[90m┬────────────────────┐\u001b[39m\n",
      "\u001b[90m│\u001b[39m\u001b[1m\u001b[34m name               \u001b[39m\u001b[22m\u001b[90m│\u001b[39m\u001b[1m\u001b[34m question           \u001b[39m\u001b[22m\u001b[90m│\u001b[39m\u001b[1m\u001b[34m [openai:gpt-3.5-tu \u001b[39m\u001b[22m\u001b[90m│\u001b[39m\u001b[1m\u001b[34m [openai:gpt-4] You \u001b[39m\u001b[22m\u001b[90m│\u001b[39m\u001b[1m\u001b[34m [openai:gpt-3.5-tu \u001b[39m\u001b[22m\u001b[90m│\u001b[39m\u001b[1m\u001b[34m [openai:gpt-4] You \u001b[39m\u001b[22m\u001b[90m│\u001b[39m\n",
      "\u001b[90m│\u001b[39m\u001b[1m\u001b[34m                    \u001b[39m\u001b[22m\u001b[90m│\u001b[39m\u001b[1m\u001b[34m                    \u001b[39m\u001b[22m\u001b[90m│\u001b[39m\u001b[1m\u001b[34m rbo-0613] You're a \u001b[39m\u001b[22m\u001b[90m│\u001b[39m\u001b[1m\u001b[34m 're an ecommerce c \u001b[39m\u001b[22m\u001b[90m│\u001b[39m\u001b[1m\u001b[34m rbo-0613] You're a \u001b[39m\u001b[22m\u001b[90m│\u001b[39m\u001b[1m\u001b[34m 're a smart, bubbl \u001b[39m\u001b[22m\u001b[90m│\u001b[39m\n",
      "\u001b[90m│\u001b[39m\u001b[1m\u001b[34m                    \u001b[39m\u001b[22m\u001b[90m│\u001b[39m\u001b[1m\u001b[34m                    \u001b[39m\u001b[22m\u001b[90m│\u001b[39m\u001b[1m\u001b[34m n ecommerce chat a \u001b[39m\u001b[22m\u001b[90m│\u001b[39m\u001b[1m\u001b[34m hat assistant for  \u001b[39m\u001b[22m\u001b[90m│\u001b[39m\u001b[1m\u001b[34m  smart, bubbly cha \u001b[39m\u001b[22m\u001b[90m│\u001b[39m\u001b[1m\u001b[34m y chat assistant f \u001b[39m\u001b[22m\u001b[90m│\u001b[39m\n",
      "\u001b[90m│\u001b[39m\u001b[1m\u001b[34m                    \u001b[39m\u001b[22m\u001b[90m│\u001b[39m\u001b[1m\u001b[34m                    \u001b[39m\u001b[22m\u001b[90m│\u001b[39m\u001b[1m\u001b[34m ssistant for a sho \u001b[39m\u001b[22m\u001b[90m│\u001b[39m\u001b[1m\u001b[34m a shoe company.    \u001b[39m\u001b[22m\u001b[90m│\u001b[39m\u001b[1m\u001b[34m t assistant for a  \u001b[39m\u001b[22m\u001b[90m│\u001b[39m\u001b[1m\u001b[34m or a shoe company. \u001b[39m\u001b[22m\u001b[90m│\u001b[39m\n",
      "\u001b[90m│\u001b[39m\u001b[1m\u001b[34m                    \u001b[39m\u001b[22m\u001b[90m│\u001b[39m\u001b[1m\u001b[34m                    \u001b[39m\u001b[22m\u001b[90m│\u001b[39m\u001b[1m\u001b[34m e company.         \u001b[39m\u001b[22m\u001b[90m│\u001b[39m\u001b[1m\u001b[34m Answer this user's \u001b[39m\u001b[22m\u001b[90m│\u001b[39m\u001b[1m\u001b[34m shoe company.      \u001b[39m\u001b[22m\u001b[90m│\u001b[39m\u001b[1m\u001b[34m Answer this user's \u001b[39m\u001b[22m\u001b[90m│\u001b[39m\n",
      "\u001b[90m│\u001b[39m\u001b[1m\u001b[34m                    \u001b[39m\u001b[22m\u001b[90m│\u001b[39m\u001b[1m\u001b[34m                    \u001b[39m\u001b[22m\u001b[90m│\u001b[39m\u001b[1m\u001b[34m Answer this user's \u001b[39m\u001b[22m\u001b[90m│\u001b[39m\u001b[1m\u001b[34m  question: {{name} \u001b[39m\u001b[22m\u001b[90m│\u001b[39m\u001b[1m\u001b[34m Answer this user's \u001b[39m\u001b[22m\u001b[90m│\u001b[39m\u001b[1m\u001b[34m  question: {{name} \u001b[39m\u001b[22m\u001b[90m│\u001b[39m\n",
      "\u001b[90m│\u001b[39m\u001b[1m\u001b[34m                    \u001b[39m\u001b[22m\u001b[90m│\u001b[39m\u001b[1m\u001b[34m                    \u001b[39m\u001b[22m\u001b[90m│\u001b[39m\u001b[1m\u001b[34m  question: {{name} \u001b[39m\u001b[22m\u001b[90m│\u001b[39m\u001b[1m\u001b[34m }: \"{{question}}\"  \u001b[39m\u001b[22m\u001b[90m│\u001b[39m\u001b[1m\u001b[34m  question: {{name} \u001b[39m\u001b[22m\u001b[90m│\u001b[39m\u001b[1m\u001b[34m }: \"{{question}}\"  \u001b[39m\u001b[22m\u001b[90m│\u001b[39m\n",
      "\u001b[90m│\u001b[39m\u001b[1m\u001b[34m                    \u001b[39m\u001b[22m\u001b[90m│\u001b[39m\u001b[1m\u001b[34m                    \u001b[39m\u001b[22m\u001b[90m│\u001b[39m\u001b[1m\u001b[34m }: \"{{question}}\"  \u001b[39m\u001b[22m\u001b[90m│\u001b[39m\u001b[1m\u001b[34m                    \u001b[39m\u001b[22m\u001b[90m│\u001b[39m\u001b[1m\u001b[34m }: \"{{question}}\"  \u001b[39m\u001b[22m\u001b[90m│\u001b[39m\u001b[1m\u001b[34m                    \u001b[39m\u001b[22m\u001b[90m│\u001b[39m\n",
      "\u001b[90m├────────────────────\u001b[39m\u001b[90m┼────────────────────\u001b[39m\u001b[90m┼────────────────────\u001b[39m\u001b[90m┼────────────────────\u001b[39m\u001b[90m┼────────────────────\u001b[39m\u001b[90m┼────────────────────┤\u001b[39m\n",
      "\u001b[90m│\u001b[39m Bob                \u001b[90m│\u001b[39m Can you help me fi \u001b[90m│\u001b[39m \u001b[32m\u001b[1m[PASS] \u001b[\u001b[22m\u001b[39m           \u001b[90m│\u001b[39m \u001b[32m\u001b[1m[PASS] \u001b[\u001b[22m\u001b[39m           \u001b[90m│\u001b[39m \u001b[32m\u001b[1m[PASS] \u001b[\u001b[22m\u001b[39m           \u001b[90m│\u001b[39m \u001b[32m\u001b[1m[PASS] \u001b[\u001b[22m\u001b[39m           \u001b[90m│\u001b[39m\n",
      "\u001b[90m│\u001b[39m                    \u001b[90m│\u001b[39m nd a pair of sanda \u001b[90m│\u001b[39m \u001b[32m\u001b[1m22m\u001b[39mAssistant:\u001b[22m      \u001b[90m│\u001b[39m \u001b[32m\u001b[1m22m\u001b[39mOf course,\u001b[22m      \u001b[90m│\u001b[39m \u001b[32m\u001b[1m22m\u001b[39mOf course,\u001b[22m      \u001b[90m│\u001b[39m \u001b[32m\u001b[1m22m\u001b[39mAbsolutely\u001b[22m      \u001b[90m│\u001b[39m\n",
      "\u001b[90m│\u001b[39m                    \u001b[90m│\u001b[39m ls on your website \u001b[90m│\u001b[39m \u001b[1m Of course, Bob! I\u001b[22m \u001b[90m│\u001b[39m \u001b[1m Bob! I'd be happy\u001b[22m \u001b[90m│\u001b[39m \u001b[1m Bob! I'd be delig\u001b[22m \u001b[90m│\u001b[39m \u001b[1m, Bob! I'd be happ\u001b[22m \u001b[90m│\u001b[39m\n",
      "\u001b[90m│\u001b[39m                    \u001b[90m│\u001b[39m ?                  \u001b[90m│\u001b[39m \u001b[1m'd be happy to hel\u001b[22m \u001b[90m│\u001b[39m \u001b[1m to assist you. To\u001b[22m \u001b[90m│\u001b[39m \u001b[1mhted to help you f\u001b[22m \u001b[90m│\u001b[39m \u001b[1my to assist you. T\u001b[22m \u001b[90m│\u001b[39m\n",
      "\u001b[90m│\u001b[39m                    \u001b[90m│\u001b[39m                    \u001b[90m│\u001b[39m \u001b[1mp you find a pair \u001b[22m \u001b[90m│\u001b[39m \u001b[1m help you better, \u001b[22m \u001b[90m│\u001b[39m \u001b[1mind a pair of sand\u001b[22m \u001b[90m│\u001b[39m \u001b[1mo help you better,\u001b[22m \u001b[90m│\u001b[39m\n",
      "\u001b[90m│\u001b[39m                    \u001b[90m│\u001b[39m                    \u001b[90m│\u001b[39m \u001b[1mof sandals on our \u001b[22m \u001b[90m│\u001b[39m \u001b[1mcould you please p\u001b[22m \u001b[90m│\u001b[39m \u001b[1mals on our website\u001b[22m \u001b[90m│\u001b[39m \u001b[1m could you please \u001b[22m \u001b[90m│\u001b[39m\n",
      "\u001b[90m│\u001b[39m                    \u001b[90m│\u001b[39m                    \u001b[90m│\u001b[39m \u001b[1mwebsite. Could you\u001b[22m \u001b[90m│\u001b[39m \u001b[1mrovide more detail\u001b[22m \u001b[90m│\u001b[39m \u001b[1m. Could you please\u001b[22m \u001b[90m│\u001b[39m \u001b[1mprovide me with mo\u001b[22m \u001b[90m│\u001b[39m\n",
      "\u001b[90m│\u001b[39m                    \u001b[90m│\u001b[39m                    \u001b[90m│\u001b[39m \u001b[1m please let me kno\u001b[22m \u001b[90m│\u001b[39m \u001b[1ms? Are you looking\u001b[22m \u001b[90m│\u001b[39m \u001b[1m let me know what \u001b[22m \u001b[90m│\u001b[39m \u001b[1mre details? For in\u001b[22m \u001b[90m│\u001b[39m\n",
      "\u001b[90m│\u001b[39m                    \u001b[90m│\u001b[39m                    \u001b[90m│\u001b[39m \u001b[1mw what specific ty\u001b[22m \u001b[90m│\u001b[39m \u001b[1m for a specific st\u001b[22m \u001b[90m│\u001b[39m \u001b[1mspecific type of s\u001b[22m \u001b[90m│\u001b[39m \u001b[1mstance, are you lo\u001b[22m \u001b[90m│\u001b[39m\n",
      "\u001b[90m│\u001b[39m                    \u001b[90m│\u001b[39m                    \u001b[90m│\u001b[39m \u001b[1mpe of sandals you \u001b[22m \u001b[90m│\u001b[39m \u001b[1myle, color, or siz\u001b[22m \u001b[90m│\u001b[39m \u001b[1mandals you are loo\u001b[22m \u001b[90m│\u001b[39m \u001b[1moking for a specif\u001b[22m \u001b[90m│\u001b[39m\n",
      "\u001b[90m│\u001b[39m                    \u001b[90m│\u001b[39m                    \u001b[90m│\u001b[39m \u001b[1mare looking for?\u001b[22m   \u001b[90m│\u001b[39m \u001b[1me?\u001b[22m                 \u001b[90m│\u001b[39m \u001b[1mking for? Are you \u001b[22m \u001b[90m│\u001b[39m \u001b[1mic style, color, o\u001b[22m \u001b[90m│\u001b[39m\n",
      "\u001b[90m│\u001b[39m                    \u001b[90m│\u001b[39m                    \u001b[90m│\u001b[39m                    \u001b[90m│\u001b[39m                    \u001b[90m│\u001b[39m \u001b[1minterested in men'\u001b[22m \u001b[90m│\u001b[39m \u001b[1mr size?\u001b[22m            \u001b[90m│\u001b[39m\n",
      "\u001b[90m│\u001b[39m                    \u001b[90m│\u001b[39m                    \u001b[90m│\u001b[39m                    \u001b[90m│\u001b[39m                    \u001b[90m│\u001b[39m \u001b[1ms or women's sanda\u001b[22m \u001b[90m│\u001b[39m                    \u001b[90m│\u001b[39m\n",
      "\u001b[90m│\u001b[39m                    \u001b[90m│\u001b[39m                    \u001b[90m│\u001b[39m                    \u001b[90m│\u001b[39m                    \u001b[90m│\u001b[39m \u001b[1mls? And do you hav\u001b[22m \u001b[90m│\u001b[39m                    \u001b[90m│\u001b[39m\n",
      "\u001b[90m│\u001b[39m                    \u001b[90m│\u001b[39m                    \u001b[90m│\u001b[39m                    \u001b[90m│\u001b[39m                    \u001b[90m│\u001b[39m \u001b[1me any particular s\u001b[22m \u001b[90m│\u001b[39m                    \u001b[90m│\u001b[39m\n",
      "\u001b[90m│\u001b[39m                    \u001b[90m│\u001b[39m                    \u001b[90m│\u001b[39m                    \u001b[90m│\u001b[39m                    \u001b[90m│\u001b[39m \u001b[1mtyle, ...\u001b[22m          \u001b[90m│\u001b[39m                    \u001b[90m│\u001b[39m\n",
      "\u001b[90m├────────────────────\u001b[39m\u001b[90m┼────────────────────\u001b[39m\u001b[90m┼────────────────────\u001b[39m\u001b[90m┼────────────────────\u001b[39m\u001b[90m┼────────────────────\u001b[39m\u001b[90m┼────────────────────┤\u001b[39m\n",
      "\u001b[90m│\u001b[39m Jane               \u001b[90m│\u001b[39m Do you have any di \u001b[90m│\u001b[39m \u001b[32m\u001b[1m[PASS] \u001b[\u001b[22m\u001b[39m           \u001b[90m│\u001b[39m \u001b[32m\u001b[1m[PASS] \u001b[\u001b[22m\u001b[39m           \u001b[90m│\u001b[39m \u001b[32m\u001b[1m[PASS] \u001b[\u001b[22m\u001b[39m           \u001b[90m│\u001b[39m \u001b[32m\u001b[1m[PASS] \u001b[\u001b[22m\u001b[39m           \u001b[90m│\u001b[39m\n",
      "\u001b[90m│\u001b[39m                    \u001b[90m│\u001b[39m scounts available? \u001b[90m│\u001b[39m \u001b[32m\u001b[1m22m\u001b[39mAssistant:\u001b[22m      \u001b[90m│\u001b[39m \u001b[32m\u001b[1m22m\u001b[39mYes, Jane,\u001b[22m      \u001b[90m│\u001b[39m \u001b[32m\u001b[1m22m\u001b[39mAssistant:\u001b[22m      \u001b[90m│\u001b[39m \u001b[32m\u001b[1m22m\u001b[39mAbsolutely\u001b[22m      \u001b[90m│\u001b[39m\n",
      "\u001b[90m│\u001b[39m                    \u001b[90m│\u001b[39m                    \u001b[90m│\u001b[39m \u001b[1m Hello Jane! Thank\u001b[22m \u001b[90m│\u001b[39m \u001b[1m we do have discou\u001b[22m \u001b[90m│\u001b[39m \u001b[1m Hi Jane! Thank yo\u001b[22m \u001b[90m│\u001b[39m \u001b[1m, Jane! We often h\u001b[22m \u001b[90m│\u001b[39m\n",
      "\u001b[90m│\u001b[39m                    \u001b[90m│\u001b[39m                    \u001b[90m│\u001b[39m \u001b[1m you for reaching \u001b[22m \u001b[90m│\u001b[39m \u001b[1mnts available from\u001b[22m \u001b[90m│\u001b[39m \u001b[1mu for reaching out\u001b[22m \u001b[90m│\u001b[39m \u001b[1mave various discou\u001b[22m \u001b[90m│\u001b[39m\n",
      "\u001b[90m│\u001b[39m                    \u001b[90m│\u001b[39m                    \u001b[90m│\u001b[39m \u001b[1mout. Yes, we do ha\u001b[22m \u001b[90m│\u001b[39m \u001b[1m time to time. Cur\u001b[22m \u001b[90m│\u001b[39m \u001b[1m to us. Yes, we do\u001b[22m \u001b[90m│\u001b[39m \u001b[1mnts and promotiona\u001b[22m \u001b[90m│\u001b[39m\n",
      "\u001b[90m│\u001b[39m                    \u001b[90m│\u001b[39m                    \u001b[90m│\u001b[39m \u001b[1mve discounts avail\u001b[22m \u001b[90m│\u001b[39m \u001b[1mrently, we are off\u001b[22m \u001b[90m│\u001b[39m \u001b[1m have some excitin\u001b[22m \u001b[90m│\u001b[39m \u001b[1ml offers available\u001b[22m \u001b[90m│\u001b[39m\n",
      "\u001b[90m│\u001b[39m                    \u001b[90m│\u001b[39m                    \u001b[90m│\u001b[39m \u001b[1mable. Could you pl\u001b[22m \u001b[90m│\u001b[39m \u001b[1mering a 10% discou\u001b[22m \u001b[90m│\u001b[39m \u001b[1mg discounts availa\u001b[22m \u001b[90m│\u001b[39m \u001b[1m. The specifics ca\u001b[22m \u001b[90m│\u001b[39m\n",
      "\u001b[90m│\u001b[39m                    \u001b[90m│\u001b[39m                    \u001b[90m│\u001b[39m \u001b[1mease let me know w\u001b[22m \u001b[90m│\u001b[39m \u001b[1mnt on your first o\u001b[22m \u001b[90m│\u001b[39m \u001b[1mble at the moment.\u001b[22m \u001b[90m│\u001b[39m \u001b[1mn vary, so I recom\u001b[22m \u001b[90m│\u001b[39m\n",
      "\u001b[90m│\u001b[39m                    \u001b[90m│\u001b[39m                    \u001b[90m│\u001b[39m \u001b[1mhich specific shoe\u001b[22m \u001b[90m│\u001b[39m \u001b[1mrder when you sign\u001b[22m \u001b[90m│\u001b[39m \u001b[1m Could you please \u001b[22m \u001b[90m│\u001b[39m \u001b[1mmend checking our \u001b[22m \u001b[90m│\u001b[39m\n",
      "\u001b[90m│\u001b[39m                    \u001b[90m│\u001b[39m                    \u001b[90m│\u001b[39m \u001b[1ms you are interest\u001b[22m \u001b[90m│\u001b[39m \u001b[1m up for our newsle\u001b[22m \u001b[90m│\u001b[39m \u001b[1mlet me know which \u001b[22m \u001b[90m│\u001b[39m \u001b[1mwebsite or subscri\u001b[22m \u001b[90m│\u001b[39m\n",
      "\u001b[90m│\u001b[39m                    \u001b[90m│\u001b[39m                    \u001b[90m│\u001b[39m \u001b[1med in? This way, I\u001b[22m \u001b[90m│\u001b[39m \u001b[1mtter. Also, we hav\u001b[22m \u001b[90m│\u001b[39m \u001b[1mspecific shoes you\u001b[22m \u001b[90m│\u001b[39m \u001b[1mbing to our newsle\u001b[22m \u001b[90m│\u001b[39m\n",
      "\u001b[90m│\u001b[39m                    \u001b[90m│\u001b[39m                    \u001b[90m│\u001b[39m \u001b[1m can provide you w\u001b[22m \u001b[90m│\u001b[39m \u001b[1me a sale section o\u001b[22m \u001b[90m│\u001b[39m \u001b[1m are interested in\u001b[22m \u001b[90m│\u001b[39m \u001b[1mtter for the most \u001b[22m \u001b[90m│\u001b[39m\n",
      "\u001b[90m│\u001b[39m                    \u001b[90m│\u001b[39m                    \u001b[90m│\u001b[39m \u001b[1mith the most accur\u001b[22m \u001b[90m│\u001b[39m \u001b[1mn our website wher\u001b[22m \u001b[90m│\u001b[39m \u001b[1m? That way, I can \u001b[22m \u001b[90m│\u001b[39m \u001b[1mup-to-date informa\u001b[22m \u001b[90m│\u001b[39m\n",
      "\u001b[90m│\u001b[39m                    \u001b[90m│\u001b[39m                    \u001b[90m│\u001b[39m \u001b[1mate information re\u001b[22m \u001b[90m│\u001b[39m \u001b[1me you can find sho\u001b[22m \u001b[90m│\u001b[39m \u001b[1mprovide you with t\u001b[22m \u001b[90m│\u001b[39m \u001b[1mtion. You can also\u001b[22m \u001b[90m│\u001b[39m\n",
      "\u001b[90m│\u001b[39m                    \u001b[90m│\u001b[39m                    \u001b[90m│\u001b[39m \u001b[1mgarding any availa\u001b[22m \u001b[90m│\u001b[39m \u001b[1mes at discounted p\u001b[22m \u001b[90m│\u001b[39m \u001b[1mhe most accurate i\u001b[22m \u001b[90m│\u001b[39m \u001b[1m check our social \u001b[22m \u001b[90m│\u001b[39m\n",
      "\u001b[90m│\u001b[39m                    \u001b[90m│\u001b[39m                    \u001b[90m│\u001b[39m \u001b[1mble di...\u001b[22m          \u001b[90m│\u001b[39m \u001b[1mrices....\u001b[22m          \u001b[90m│\u001b[39m \u001b[1mnforma...\u001b[22m          \u001b[90m│\u001b[39m \u001b[1mmedia ...\u001b[22m          \u001b[90m│\u001b[39m\n",
      "\u001b[90m├────────────────────\u001b[39m\u001b[90m┼────────────────────\u001b[39m\u001b[90m┼────────────────────\u001b[39m\u001b[90m┼────────────────────\u001b[39m\u001b[90m┼────────────────────\u001b[39m\u001b[90m┼────────────────────┤\u001b[39m\n",
      "\u001b[90m│\u001b[39m Dave               \u001b[90m│\u001b[39m What are your ship \u001b[90m│\u001b[39m \u001b[32m\u001b[1m[PASS] \u001b[\u001b[22m\u001b[39m           \u001b[90m│\u001b[39m \u001b[32m\u001b[1m[PASS] \u001b[\u001b[22m\u001b[39m           \u001b[90m│\u001b[39m \u001b[32m\u001b[1m[PASS] \u001b[\u001b[22m\u001b[39m           \u001b[90m│\u001b[39m \u001b[32m\u001b[1m[PASS] \u001b[\u001b[22m\u001b[39m           \u001b[90m│\u001b[39m\n",
      "\u001b[90m│\u001b[39m                    \u001b[90m│\u001b[39m ping and return po \u001b[90m│\u001b[39m \u001b[32m\u001b[1m22m\u001b[39mAssistant:\u001b[22m      \u001b[90m│\u001b[39m \u001b[32m\u001b[1m22m\u001b[39mWe offer f\u001b[22m      \u001b[90m│\u001b[39m \u001b[32m\u001b[1m22m\u001b[39mAssistant:\u001b[22m      \u001b[90m│\u001b[39m \u001b[32m\u001b[1m22m\u001b[39mOur shippi\u001b[22m      \u001b[90m│\u001b[39m\n",
      "\u001b[90m│\u001b[39m                    \u001b[90m│\u001b[39m licies?            \u001b[90m│\u001b[39m \u001b[1m Hello Dave! Thank\u001b[22m \u001b[90m│\u001b[39m \u001b[1mree standard shipp\u001b[22m \u001b[90m│\u001b[39m \u001b[1m Hello Dave! Thank\u001b[22m \u001b[90m│\u001b[39m \u001b[1mng policy is as fo\u001b[22m \u001b[90m│\u001b[39m\n",
      "\u001b[90m│\u001b[39m                    \u001b[90m│\u001b[39m                    \u001b[90m│\u001b[39m \u001b[1m you for your inte\u001b[22m \u001b[90m│\u001b[39m \u001b[1ming on all orders \u001b[22m \u001b[90m│\u001b[39m \u001b[1m you for your inte\u001b[22m \u001b[90m│\u001b[39m \u001b[1mllows: We offer fr\u001b[22m \u001b[90m│\u001b[39m\n",
      "\u001b[90m│\u001b[39m                    \u001b[90m│\u001b[39m                    \u001b[90m│\u001b[39m \u001b[1mrest in our shoe c\u001b[22m \u001b[90m│\u001b[39m \u001b[1mover $50. For orde\u001b[22m \u001b[90m│\u001b[39m \u001b[1mrest in our shoe c\u001b[22m \u001b[90m│\u001b[39m \u001b[1mee standard shippi\u001b[22m \u001b[90m│\u001b[39m\n",
      "\u001b[90m│\u001b[39m                    \u001b[90m│\u001b[39m                    \u001b[90m│\u001b[39m \u001b[1mompany. Our shippi\u001b[22m \u001b[90m│\u001b[39m \u001b[1mrs under $50, the \u001b[22m \u001b[90m│\u001b[39m \u001b[1mompany. I'd be hap\u001b[22m \u001b[90m│\u001b[39m \u001b[1mng on all orders o\u001b[22m \u001b[90m│\u001b[39m\n",
      "\u001b[90m│\u001b[39m                    \u001b[90m│\u001b[39m                    \u001b[90m│\u001b[39m \u001b[1mng policy is as fo\u001b[22m \u001b[90m│\u001b[39m \u001b[1mstandard shipping \u001b[22m \u001b[90m│\u001b[39m \u001b[1mpy to provide you \u001b[22m \u001b[90m│\u001b[39m \u001b[1mver $50. For order\u001b[22m \u001b[90m│\u001b[39m\n",
      "\u001b[90m│\u001b[39m                    \u001b[90m│\u001b[39m                    \u001b[90m│\u001b[39m \u001b[1mllows: We offer fr\u001b[22m \u001b[90m│\u001b[39m \u001b[1mfee is $5.99. Orde\u001b[22m \u001b[90m│\u001b[39m \u001b[1mwith information a\u001b[22m \u001b[90m│\u001b[39m \u001b[1ms under $50, a fla\u001b[22m \u001b[90m│\u001b[39m\n",
      "\u001b[90m│\u001b[39m                    \u001b[90m│\u001b[39m                    \u001b[90m│\u001b[39m \u001b[1mee standard shippi\u001b[22m \u001b[90m│\u001b[39m \u001b[1mrs are typically p\u001b[22m \u001b[90m│\u001b[39m \u001b[1mbout our shipping \u001b[22m \u001b[90m│\u001b[39m \u001b[1mt rate shipping fe\u001b[22m \u001b[90m│\u001b[39m\n",
      "\u001b[90m│\u001b[39m                    \u001b[90m│\u001b[39m                    \u001b[90m│\u001b[39m \u001b[1mng on all orders w\u001b[22m \u001b[90m│\u001b[39m \u001b[1mrocessed within 1-\u001b[22m \u001b[90m│\u001b[39m \u001b[1mand return policie\u001b[22m \u001b[90m│\u001b[39m \u001b[1me of $5.99 applies\u001b[22m \u001b[90m│\u001b[39m\n",
      "\u001b[90m│\u001b[39m                    \u001b[90m│\u001b[39m                    \u001b[90m│\u001b[39m \u001b[1mithin the United S\u001b[22m \u001b[90m│\u001b[39m \u001b[1m2 business days an\u001b[22m \u001b[90m│\u001b[39m \u001b[1ms.\u001b[22m                 \u001b[90m│\u001b[39m \u001b[1m. Orders are typic\u001b[22m \u001b[90m│\u001b[39m\n",
      "\u001b[90m│\u001b[39m                    \u001b[90m│\u001b[39m                    \u001b[90m│\u001b[39m \u001b[1mtates. Once your o\u001b[22m \u001b[90m│\u001b[39m \u001b[1md standard shippin\u001b[22m \u001b[90m│\u001b[39m \u001b[1mFor shipping, we o\u001b[22m \u001b[90m│\u001b[39m \u001b[1mally processed wit\u001b[22m \u001b[90m│\u001b[39m\n",
      "\u001b[90m│\u001b[39m                    \u001b[90m│\u001b[39m                    \u001b[90m│\u001b[39m \u001b[1mrder is placed, it\u001b[22m \u001b[90m│\u001b[39m \u001b[1mg usually takes 5-\u001b[22m \u001b[90m│\u001b[39m \u001b[1mffer free standard\u001b[22m \u001b[90m│\u001b[39m \u001b[1mhin 1-2 business d\u001b[22m \u001b[90m│\u001b[39m\n",
      "\u001b[90m│\u001b[39m                    \u001b[90m│\u001b[39m                    \u001b[90m│\u001b[39m \u001b[1m typically takes 1\u001b[22m \u001b[90m│\u001b[39m \u001b[1m7 business days.\u001b[22m   \u001b[90m│\u001b[39m \u001b[1m shipping on all o\u001b[22m \u001b[90m│\u001b[39m \u001b[1mays and standard s\u001b[22m \u001b[90m│\u001b[39m\n",
      "\u001b[90m│\u001b[39m                    \u001b[90m│\u001b[39m                    \u001b[90m│\u001b[39m \u001b[1m-3 business days f\u001b[22m \u001b[90m│\u001b[39m \u001b[1mAs for returns, we\u001b[22m \u001b[90m│\u001b[39m \u001b[1mrders within the c\u001b[22m \u001b[90m│\u001b[39m \u001b[1mhipping usually ta\u001b[22m \u001b[90m│\u001b[39m\n",
      "\u001b[90m│\u001b[39m                    \u001b[90m│\u001b[39m                    \u001b[90m│\u001b[39m \u001b[1mor pro...\u001b[22m          \u001b[90m│\u001b[39m \u001b[1m accep...\u001b[22m          \u001b[90m│\u001b[39m \u001b[1mountry. Once your \u001b[22m \u001b[90m│\u001b[39m \u001b[1mkes 5-...\u001b[22m          \u001b[90m│\u001b[39m\n",
      "\u001b[90m│\u001b[39m                    \u001b[90m│\u001b[39m                    \u001b[90m│\u001b[39m                    \u001b[90m│\u001b[39m                    \u001b[90m│\u001b[39m \u001b[1mor...\u001b[22m              \u001b[90m│\u001b[39m                    \u001b[90m│\u001b[39m\n",
      "\u001b[90m├────────────────────\u001b[39m\u001b[90m┼────────────────────\u001b[39m\u001b[90m┼────────────────────\u001b[39m\u001b[90m┼────────────────────\u001b[39m\u001b[90m┼────────────────────\u001b[39m\u001b[90m┼────────────────────┤\u001b[39m\n",
      "\u001b[90m│\u001b[39m Jim                \u001b[90m│\u001b[39m Can you provide mo \u001b[90m│\u001b[39m \u001b[32m\u001b[1m[PASS] \u001b[\u001b[22m\u001b[39m           \u001b[90m│\u001b[39m \u001b[32m\u001b[1m[PASS] \u001b[\u001b[22m\u001b[39m           \u001b[90m│\u001b[39m \u001b[32m\u001b[1m[PASS] \u001b[\u001b[22m\u001b[39m           \u001b[90m│\u001b[39m \u001b[32m\u001b[1m[PASS] \u001b[\u001b[22m\u001b[39m           \u001b[90m│\u001b[39m\n",
      "\u001b[90m│\u001b[39m                    \u001b[90m│\u001b[39m re info on your hi \u001b[90m│\u001b[39m \u001b[32m\u001b[1m22m\u001b[39mAssistant:\u001b[22m      \u001b[90m│\u001b[39m \u001b[32m\u001b[1m22m\u001b[39mAbsolutely\u001b[22m      \u001b[90m│\u001b[39m \u001b[32m\u001b[1m22m\u001b[39mOf course,\u001b[22m      \u001b[90m│\u001b[39m \u001b[32m\u001b[1m22m\u001b[39mAbsolutely\u001b[22m      \u001b[90m│\u001b[39m\n",
      "\u001b[90m│\u001b[39m                    \u001b[90m│\u001b[39m king boot options? \u001b[90m│\u001b[39m \u001b[1m Of course, Jim! W\u001b[22m \u001b[90m│\u001b[39m \u001b[1m, Jim! We offer a \u001b[22m \u001b[90m│\u001b[39m \u001b[1m Jim! I'd be happy\u001b[22m \u001b[90m│\u001b[39m \u001b[1m, Jim! We offer a \u001b[22m \u001b[90m│\u001b[39m\n",
      "\u001b[90m│\u001b[39m                    \u001b[90m│\u001b[39m                    \u001b[90m│\u001b[39m \u001b[1me offer a wide ran\u001b[22m \u001b[90m│\u001b[39m \u001b[1mvariety of hiking \u001b[22m \u001b[90m│\u001b[39m \u001b[1m to provide you wi\u001b[22m \u001b[90m│\u001b[39m \u001b[1mvariety of hiking \u001b[22m \u001b[90m│\u001b[39m\n",
      "\u001b[90m│\u001b[39m                    \u001b[90m│\u001b[39m                    \u001b[90m│\u001b[39m \u001b[1mge of hiking boot \u001b[22m \u001b[90m│\u001b[39m \u001b[1mboots designed for\u001b[22m \u001b[90m│\u001b[39m \u001b[1mth more informatio\u001b[22m \u001b[90m│\u001b[39m \u001b[1mboots designed to \u001b[22m \u001b[90m│\u001b[39m\n",
      "\u001b[90m│\u001b[39m                    \u001b[90m│\u001b[39m                    \u001b[90m│\u001b[39m \u001b[1moptions to suit di\u001b[22m \u001b[90m│\u001b[39m \u001b[1m different terrain\u001b[22m \u001b[90m│\u001b[39m \u001b[1mn on our hiking bo\u001b[22m \u001b[90m│\u001b[39m \u001b[1mprovide comfort, d\u001b[22m \u001b[90m│\u001b[39m\n",
      "\u001b[90m│\u001b[39m                    \u001b[90m│\u001b[39m                    \u001b[90m│\u001b[39m \u001b[1mfferent needs and \u001b[22m \u001b[90m│\u001b[39m \u001b[1ms and weather cond\u001b[22m \u001b[90m│\u001b[39m \u001b[1mot options. We hav\u001b[22m \u001b[90m│\u001b[39m \u001b[1murability, and sup\u001b[22m \u001b[90m│\u001b[39m\n",
      "\u001b[90m│\u001b[39m                    \u001b[90m│\u001b[39m                    \u001b[90m│\u001b[39m \u001b[1mpreferences. Our h\u001b[22m \u001b[90m│\u001b[39m \u001b[1mitions. \u001b[22m           \u001b[90m│\u001b[39m \u001b[1me a wide range of \u001b[22m \u001b[90m│\u001b[39m \u001b[1mport for all your \u001b[22m \u001b[90m│\u001b[39m\n",
      "\u001b[90m│\u001b[39m                    \u001b[90m│\u001b[39m                    \u001b[90m│\u001b[39m \u001b[1miking boots are de\u001b[22m \u001b[90m│\u001b[39m \u001b[1m1. **Trail Hiking \u001b[22m \u001b[90m│\u001b[39m \u001b[1mhiking boots desig\u001b[22m \u001b[90m│\u001b[39m \u001b[1moutdoor adventures\u001b[22m \u001b[90m│\u001b[39m\n",
      "\u001b[90m│\u001b[39m                    \u001b[90m│\u001b[39m                    \u001b[90m│\u001b[39m \u001b[1msigned with durabi\u001b[22m \u001b[90m│\u001b[39m \u001b[1mBoots**: These are\u001b[22m \u001b[90m│\u001b[39m \u001b[1mned to cater to di\u001b[22m \u001b[90m│\u001b[39m \u001b[1m. Here are some of\u001b[22m \u001b[90m│\u001b[39m\n",
      "\u001b[90m│\u001b[39m                    \u001b[90m│\u001b[39m                    \u001b[90m│\u001b[39m \u001b[1mlity, comfort, and\u001b[22m \u001b[90m│\u001b[39m \u001b[1m designed for mudd\u001b[22m \u001b[90m│\u001b[39m \u001b[1mfferent needs and \u001b[22m \u001b[90m│\u001b[39m \u001b[1m our popular optio\u001b[22m \u001b[90m│\u001b[39m\n",
      "\u001b[90m│\u001b[39m                    \u001b[90m│\u001b[39m                    \u001b[90m│\u001b[39m \u001b[1m performance in mi\u001b[22m \u001b[90m│\u001b[39m \u001b[1my or rocky trails.\u001b[22m \u001b[90m│\u001b[39m \u001b[1mpreferences. Here \u001b[22m \u001b[90m│\u001b[39m \u001b[1mns:\u001b[22m                \u001b[90m│\u001b[39m\n",
      "\u001b[90m│\u001b[39m                    \u001b[90m│\u001b[39m                    \u001b[90m│\u001b[39m \u001b[1mnd. Here are some \u001b[22m \u001b[90m│\u001b[39m \u001b[1m They are waterpro\u001b[22m \u001b[90m│\u001b[39m \u001b[1mare a few of our p\u001b[22m \u001b[90m│\u001b[39m \u001b[1m1. **Trail Master \u001b[22m \u001b[90m│\u001b[39m\n",
      "\u001b[90m│\u001b[39m                    \u001b[90m│\u001b[39m                    \u001b[90m│\u001b[39m \u001b[1mkey features and o\u001b[22m \u001b[90m│\u001b[39m \u001b[1mof, durable, and p\u001b[22m \u001b[90m│\u001b[39m \u001b[1mopular options:\u001b[22m    \u001b[90m│\u001b[39m \u001b[1m3000**: This boot \u001b[22m \u001b[90m│\u001b[39m\n",
      "\u001b[90m│\u001b[39m                    \u001b[90m│\u001b[39m                    \u001b[90m│\u001b[39m \u001b[1mptions you can con\u001b[22m \u001b[90m│\u001b[39m \u001b[1mrovide excellent t\u001b[22m \u001b[90m│\u001b[39m \u001b[1m1. Trailblazer Hik\u001b[22m \u001b[90m│\u001b[39m \u001b[1mis waterproof and \u001b[22m \u001b[90m│\u001b[39m\n",
      "\u001b[90m│\u001b[39m                    \u001b[90m│\u001b[39m                    \u001b[90m│\u001b[39m \u001b[1msider:...\u001b[22m          \u001b[90m│\u001b[39m \u001b[1mraction.\u001b[22m           \u001b[90m│\u001b[39m \u001b[1ming Boo...\u001b[22m         \u001b[90m│\u001b[39m \u001b[1mfeatures a rubber \u001b[22m \u001b[90m│\u001b[39m\n",
      "\u001b[90m│\u001b[39m                    \u001b[90m│\u001b[39m                    \u001b[90m│\u001b[39m                    \u001b[90m│\u001b[39m \u001b[1m2. *...\u001b[22m            \u001b[90m│\u001b[39m                    \u001b[90m│\u001b[39m \u001b[1ms...\u001b[22m               \u001b[90m│\u001b[39m\n",
      "\u001b[90m├────────────────────\u001b[39m\u001b[90m┼────────────────────\u001b[39m\u001b[90m┼────────────────────\u001b[39m\u001b[90m┼────────────────────\u001b[39m\u001b[90m┼────────────────────\u001b[39m\u001b[90m┼────────────────────┤\u001b[39m\n",
      "\u001b[90m│\u001b[39m Alice              \u001b[90m│\u001b[39m What is the latest \u001b[90m│\u001b[39m \u001b[32m\u001b[1m[PASS] \u001b[\u001b[22m\u001b[39m           \u001b[90m│\u001b[39m \u001b[32m\u001b[1m[PASS] \u001b[\u001b[22m\u001b[39m           \u001b[90m│\u001b[39m \u001b[32m\u001b[1m[PASS] \u001b[\u001b[22m\u001b[39m           \u001b[90m│\u001b[39m \u001b[32m\u001b[1m[PASS] \u001b[\u001b[22m\u001b[39m           \u001b[90m│\u001b[39m\n",
      "\u001b[90m│\u001b[39m                    \u001b[90m│\u001b[39m  trend in winter f \u001b[90m│\u001b[39m \u001b[32m\u001b[1m22m\u001b[39mAs an ecom\u001b[22m      \u001b[90m│\u001b[39m \u001b[32m\u001b[1m22m\u001b[39mThe latest\u001b[22m      \u001b[90m│\u001b[39m \u001b[32m\u001b[1m22m\u001b[39mHello Alic\u001b[22m      \u001b[90m│\u001b[39m \u001b[32m\u001b[1m22m\u001b[39mThe latest\u001b[22m      \u001b[90m│\u001b[39m\n",
      "\u001b[90m│\u001b[39m                    \u001b[90m│\u001b[39m ootwear?           \u001b[90m│\u001b[39m \u001b[1mmerce chat assista\u001b[22m \u001b[90m│\u001b[39m \u001b[1m trends in winter \u001b[22m \u001b[90m│\u001b[39m \u001b[1me! As a smart and \u001b[22m \u001b[90m│\u001b[39m \u001b[1m trends in winter \u001b[22m \u001b[90m│\u001b[39m\n",
      "\u001b[90m│\u001b[39m                    \u001b[90m│\u001b[39m                    \u001b[90m│\u001b[39m \u001b[1mnt for a shoe comp\u001b[22m \u001b[90m│\u001b[39m \u001b[1mfootwear include c\u001b[22m \u001b[90m│\u001b[39m \u001b[1mbubbly chat assist\u001b[22m \u001b[90m│\u001b[39m \u001b[1mfootwear include c\u001b[22m \u001b[90m│\u001b[39m\n",
      "\u001b[90m│\u001b[39m                    \u001b[90m│\u001b[39m                    \u001b[90m│\u001b[39m \u001b[1many, I can tell yo\u001b[22m \u001b[90m│\u001b[39m \u001b[1mhunky boots, espec\u001b[22m \u001b[90m│\u001b[39m \u001b[1mant for a shoe com\u001b[22m \u001b[90m│\u001b[39m \u001b[1mhunky boots, espec\u001b[22m \u001b[90m│\u001b[39m\n",
      "\u001b[90m│\u001b[39m                    \u001b[90m│\u001b[39m                    \u001b[90m│\u001b[39m \u001b[1mu that the latest \u001b[22m \u001b[90m│\u001b[39m \u001b[1mially those with t\u001b[22m \u001b[90m│\u001b[39m \u001b[1mpany, I'm here to \u001b[22m \u001b[90m│\u001b[39m \u001b[1mially those with l\u001b[22m \u001b[90m│\u001b[39m\n",
      "\u001b[90m│\u001b[39m                    \u001b[90m│\u001b[39m                    \u001b[90m│\u001b[39m \u001b[1mtrend in winter fo\u001b[22m \u001b[90m│\u001b[39m \u001b[1mrack soles for ext\u001b[22m \u001b[90m│\u001b[39m \u001b[1mhelp you out. The \u001b[22m \u001b[90m│\u001b[39m \u001b[1mug soles for extra\u001b[22m \u001b[90m│\u001b[39m\n",
      "\u001b[90m│\u001b[39m                    \u001b[90m│\u001b[39m                    \u001b[90m│\u001b[39m \u001b[1motwear is the rise\u001b[22m \u001b[90m│\u001b[39m \u001b[1mra grip and a fash\u001b[22m \u001b[90m│\u001b[39m \u001b[1mlatest trend in wi\u001b[22m \u001b[90m│\u001b[39m \u001b[1m grip and a fashio\u001b[22m \u001b[90m│\u001b[39m\n",
      "\u001b[90m│\u001b[39m                    \u001b[90m│\u001b[39m                    \u001b[90m│\u001b[39m \u001b[1m of chunky boots. \u001b[22m \u001b[90m│\u001b[39m \u001b[1mionable edge. Fur-\u001b[22m \u001b[90m│\u001b[39m \u001b[1mnter footwear is a\u001b[22m \u001b[90m│\u001b[39m \u001b[1mnable edge. Combat\u001b[22m \u001b[90m│\u001b[39m\n",
      "\u001b[90m│\u001b[39m                    \u001b[90m│\u001b[39m                    \u001b[90m│\u001b[39m \u001b[1mChunky boots, with\u001b[22m \u001b[90m│\u001b[39m \u001b[1mlined boots and th\u001b[22m \u001b[90m│\u001b[39m \u001b[1mll about combining\u001b[22m \u001b[90m│\u001b[39m \u001b[1m boots are also ve\u001b[22m \u001b[90m│\u001b[39m\n",
      "\u001b[90m│\u001b[39m                    \u001b[90m│\u001b[39m                    \u001b[90m│\u001b[39m \u001b[1m their thick soles\u001b[22m \u001b[90m│\u001b[39m \u001b[1mose with shearling\u001b[22m \u001b[90m│\u001b[39m \u001b[1m style and functio\u001b[22m \u001b[90m│\u001b[39m \u001b[1mry popular. For a \u001b[22m \u001b[90m│\u001b[39m\n",
      "\u001b[90m│\u001b[39m                    \u001b[90m│\u001b[39m                    \u001b[90m│\u001b[39m \u001b[1m and sturdy constr\u001b[22m \u001b[90m│\u001b[39m \u001b[1m details are also \u001b[22m \u001b[90m│\u001b[39m \u001b[1mnality. One popula\u001b[22m \u001b[90m│\u001b[39m \u001b[1mmore elegant look,\u001b[22m \u001b[90m│\u001b[39m\n",
      "\u001b[90m│\u001b[39m                    \u001b[90m│\u001b[39m                    \u001b[90m│\u001b[39m \u001b[1muction, are not on\u001b[22m \u001b[90m│\u001b[39m \u001b[1mpopular for their \u001b[22m \u001b[90m│\u001b[39m \u001b[1mr trend this seaso\u001b[22m \u001b[90m│\u001b[39m \u001b[1m knee-high and ove\u001b[22m \u001b[90m│\u001b[39m\n",
      "\u001b[90m│\u001b[39m                    \u001b[90m│\u001b[39m                    \u001b[90m│\u001b[39m \u001b[1mly fashionable but\u001b[22m \u001b[90m│\u001b[39m \u001b[1mwarmth and style. \u001b[22m \u001b[90m│\u001b[39m \u001b[1mn is chunky boots \u001b[22m \u001b[90m│\u001b[39m \u001b[1mr-the-knee boots a\u001b[22m \u001b[90m│\u001b[39m\n",
      "\u001b[90m│\u001b[39m                    \u001b[90m│\u001b[39m                    \u001b[90m│\u001b[39m \u001b[1m also practical fo\u001b[22m \u001b[90m│\u001b[39m \u001b[1mOver-the-knee boot\u001b[22m \u001b[90m│\u001b[39m \u001b[1mwith lug soles. Th\u001b[22m \u001b[90m│\u001b[39m \u001b[1mre trending, parti\u001b[22m \u001b[90m│\u001b[39m\n",
      "\u001b[90m│\u001b[39m                    \u001b[90m│\u001b[39m                    \u001b[90m│\u001b[39m \u001b[1mr the ...\u001b[22m          \u001b[90m│\u001b[39m \u001b[1ms and ...\u001b[22m          \u001b[90m│\u001b[39m \u001b[1mese bo...\u001b[22m          \u001b[90m│\u001b[39m \u001b[1mcularl...\u001b[22m          \u001b[90m│\u001b[39m\n",
      "\u001b[90m└────────────────────\u001b[39m\u001b[90m┴────────────────────\u001b[39m\u001b[90m┴────────────────────\u001b[39m\u001b[90m┴────────────────────\u001b[39m\u001b[90m┴────────────────────\u001b[39m\u001b[90m┴────────────────────┘\u001b[39m\n",
      "======================================================================\n",
      "\u001b[32m✔\u001b[39m Evaluation complete.\n",
      "\n",
      "Run \u001b[92mpromptfoo view\u001b[39m to use the local web viewer\n",
      "Run \u001b[92mpromptfoo share\u001b[39m to create a shareable URL\n",
      "======================================================================\n",
      "\u001b[32m\u001b[1mSuccesses: 20\u001b[22m\u001b[39m\n",
      "\u001b[31m\u001b[1mFailures: 0\u001b[22m\u001b[39m\n",
      "Token usage: Total 3511, Prompt 762, Completion 2749, Cached 0\n",
      "Done.\n"
     ]
    }
   ],
   "source": [
    "!npx promptfoo@latest eval -c /content/promptfooconfig.yaml --no-progress-bar"
   ]
  },
  {
   "cell_type": "markdown",
   "metadata": {
    "id": "OBU2upLn1b0x"
   },
   "source": [
    "Now we can share and view this in the web viewer, which is easier to use and contains tools for drilling down and grading the outputs."
   ]
  },
  {
   "cell_type": "code",
   "execution_count": 15,
   "metadata": {
    "colab": {
     "base_uri": "https://localhost:8080/"
    },
    "id": "QQq6hV6006Cv",
    "outputId": "93dd5b45-acce-4051-8d19-185469a67bab"
   },
   "outputs": [
    {
     "name": "stdout",
     "output_type": "stream",
     "text": [
      "View results: \u001b[92m\u001b[1mhttps://app.promptfoo.dev/eval/f:ffaf05af-6d34-4ff3-b035-2a73e0c97375\u001b[22m\u001b[39m\n"
     ]
    }
   ],
   "source": [
    "!npx promptfoo@latest share --yes"
   ]
  },
  {
   "cell_type": "markdown",
   "metadata": {
    "id": "NB4Xw1mh2ILr"
   },
   "source": [
    "# Eval a Python script in Colab"
   ]
  },
  {
   "cell_type": "markdown",
   "metadata": {
    "id": "v8o97GM_2LWo"
   },
   "source": [
    "# Python Code Evaluation Examples\n",
    "\n",
    "This section shows how to evaluate custom Python code alongside LLM providers. We'll demonstrate:\n",
    "\n",
    "1. **LangChain Math Chain** - Compare LangChain's math capabilities vs direct LLM calls\n",
    "2. **Custom Python Functions** - Evaluate your own Python logic\n",
    "3. **API Integration** - Test external API calls vs LLM responses\n",
    "\n",
    "This approach works with any Python code - machine learning models, APIs, databases, etc."
   ]
  },
  {
   "cell_type": "code",
   "execution_count": null,
   "metadata": {
    "id": "1MIC2FYu2aV1"
   },
   "outputs": [],
   "source": [
    "# Install Python packages for our examples\n",
    "%pip install -q langchain langchain-openai langchain-community openai requests numpy"
   ]
  },
  {
   "cell_type": "markdown",
   "metadata": {
    "id": "RzTNvbVL-StX"
   },
   "source": [
    "## Example 1: LangChain Math Chain\n",
    "\n",
    "Here's a LangChain implementation that solves mathematical problems:"
   ]
  },
  {
   "cell_type": "code",
   "execution_count": 10,
   "metadata": {
    "colab": {
     "base_uri": "https://localhost:8080/"
    },
    "id": "2O1JriWH2oX1",
    "outputId": "964857d5-cb79-4f59-a909-548dc7474c00"
   },
   "outputs": [
    {
     "name": "stdout",
     "output_type": "stream",
     "text": [
      "Overwriting langchain_example.py\n"
     ]
    }
   ],
   "source": [
    "%%writefile langchain_math.py\n",
    "import sys\n",
    "import os\n",
    "from langchain_openai import OpenAI\n",
    "from langchain.chains import LLMMathChain\n",
    "\n",
    "# Initialize OpenAI LLM with modern LangChain\n",
    "llm = OpenAI(\n",
    "    temperature=0,\n",
    "    openai_api_key=os.getenv('OPENAI_API_KEY'),\n",
    "    model_name=\"gpt-3.5-turbo-instruct\"  # Use instruct model for math\n",
    ")\n",
    "\n",
    "# Create math chain\n",
    "math_chain = LLMMathChain.from_llm(llm, verbose=True)\n",
    "\n",
    "# Process the math question\n",
    "try:\n",
    "    result = math_chain.run(sys.argv[1])\n",
    "    print(f\"Answer: {result}\")\n",
    "except Exception as e:\n",
    "    print(f\"Error: {e}\")"
   ]
  },
  {
   "cell_type": "raw",
   "metadata": {
    "vscode": {
     "languageId": "raw"
    }
   },
   "source": [
    "## Example 2: Advanced Python Assertions\n",
    "\n",
    "Let's create external Python assertion functions that provide detailed scoring:\n"
   ]
  },
  {
   "cell_type": "code",
   "execution_count": null,
   "metadata": {},
   "outputs": [],
   "source": [
    "%%writefile custom_assertions.py\n",
    "def evaluate_customer_service(output, context):\n",
    "    \"\"\"\n",
    "    Advanced assertion function that evaluates customer service quality\n",
    "    with detailed scoring and multiple criteria.\n",
    "    \"\"\"\n",
    "    import re\n",
    "    \n",
    "    # Initialize scoring components\n",
    "    scores = {\n",
    "        'politeness': 0,\n",
    "        'helpfulness': 0,\n",
    "        'specificity': 0,\n",
    "        'completeness': 0\n",
    "    }\n",
    "    \n",
    "    output_lower = output.lower()\n",
    "    \n",
    "    # Check politeness\n",
    "    polite_words = ['please', 'thank you', 'sorry', 'appreciate', 'welcome']\n",
    "    politeness_score = sum(1 for word in polite_words if word in output_lower) / len(polite_words)\n",
    "    scores['politeness'] = min(politeness_score, 1.0)\n",
    "    \n",
    "    # Check helpfulness \n",
    "    helpful_phrases = ['i can help', 'let me assist', 'here are some options', 'i recommend']\n",
    "    helpfulness_score = sum(1 for phrase in helpful_phrases if phrase in output_lower) / len(helpful_phrases)\n",
    "    scores['helpfulness'] = min(helpfulness_score, 1.0)\n",
    "    \n",
    "    # Check specificity (mentions specific products, prices, etc.)\n",
    "    specific_indicators = ['$', 'size', 'color', 'material', 'brand', 'model']\n",
    "    specificity_score = sum(1 for indicator in specific_indicators if indicator in output_lower) / len(specific_indicators)\n",
    "    scores['specificity'] = min(specificity_score, 1.0)\n",
    "    \n",
    "    # Check completeness (length and structure)\n",
    "    word_count = len(output.split())\n",
    "    completeness_score = min(word_count / 50, 1.0)  # Normalize to 50 words as ideal\n",
    "    scores['completeness'] = completeness_score\n",
    "    \n",
    "    # Calculate overall score\n",
    "    overall_score = sum(scores.values()) / len(scores)\n",
    "    \n",
    "    # Determine pass/fail\n",
    "    passes = overall_score > 0.6\n",
    "    \n",
    "    return {\n",
    "        'pass': passes,\n",
    "        'score': overall_score,\n",
    "        'reason': f'Customer service quality: {overall_score:.1%}',\n",
    "        'namedScores': scores,\n",
    "        'componentResults': [\n",
    "            {\n",
    "                'pass': scores['politeness'] > 0.3,\n",
    "                'score': scores['politeness'],\n",
    "                'reason': f'Politeness: {scores[\"politeness\"]:.1%}'\n",
    "            },\n",
    "            {\n",
    "                'pass': scores['helpfulness'] > 0.3,\n",
    "                'score': scores['helpfulness'], \n",
    "                'reason': f'Helpfulness: {scores[\"helpfulness\"]:.1%}'\n",
    "            }\n",
    "        ]\n",
    "    }\n",
    "\n",
    "def evaluate_translation_quality(output, context):\n",
    "    \"\"\"Evaluate translation quality with language-specific checks\"\"\"\n",
    "    target_lang = context.get('vars', {}).get('target_language', '').lower()\n",
    "    \n",
    "    # Language-specific keyword checks\n",
    "    language_indicators = {\n",
    "        'french': ['le', 'la', 'de', 'et', 'je', 'vous'],\n",
    "        'spanish': ['el', 'la', 'de', 'y', 'que', 'en'],\n",
    "        'german': ['der', 'die', 'das', 'und', 'ist', 'mit'],\n",
    "        'italian': ['il', 'la', 'di', 'e', 'che', 'in']\n",
    "    }\n",
    "    \n",
    "    if target_lang in language_indicators:\n",
    "        indicators = language_indicators[target_lang]\n",
    "        found_indicators = sum(1 for word in indicators if word in output.lower())\n",
    "        language_score = found_indicators / len(indicators)\n",
    "        \n",
    "        return {\n",
    "            'pass': language_score > 0.2,\n",
    "            'score': language_score,\n",
    "            'reason': f'Language authenticity for {target_lang}: {language_score:.1%}'\n",
    "        }\n",
    "    \n",
    "    # Fallback for unknown languages\n",
    "    return {\n",
    "        'pass': len(output) > 0,\n",
    "        'score': 0.5,\n",
    "        'reason': 'Basic translation check passed'\n",
    "    }\n"
   ]
  },
  {
   "cell_type": "raw",
   "metadata": {
    "vscode": {
     "languageId": "raw"
    }
   },
   "source": [
    "## Example 3: Python Test Case Generators\n",
    "\n",
    "Create dynamic test cases using Python functions:\n"
   ]
  },
  {
   "cell_type": "code",
   "execution_count": null,
   "metadata": {},
   "outputs": [],
   "source": [
    "%%writefile test_generators.py\n",
    "from typing import Any, Dict, Optional\n",
    "import random\n",
    "\n",
    "def generate_translation_tests(config: Optional[Dict[str, Any]] = None):\n",
    "    \"\"\"Generate translation test cases with optional configuration.\"\"\"\n",
    "    \n",
    "    # Default test data\n",
    "    phrases = [\n",
    "        \"Hello, how are you?\",\n",
    "        \"Thank you very much\",\n",
    "        \"Where is the library?\",\n",
    "        \"I would like to order food\",\n",
    "        \"What time is it?\"\n",
    "    ]\n",
    "    \n",
    "    languages = [\"French\", \"Spanish\", \"German\", \"Italian\"]\n",
    "    \n",
    "    # Override with config if provided\n",
    "    if config:\n",
    "        phrases = config.get(\"phrases\", phrases)\n",
    "        languages = config.get(\"languages\", languages)\n",
    "        max_tests = config.get(\"max_tests\", len(phrases) * len(languages))\n",
    "    else:\n",
    "        max_tests = 8  # Default limit\n",
    "    \n",
    "    test_cases = []\n",
    "    count = 0\n",
    "    \n",
    "    for phrase in phrases:\n",
    "        for lang in languages:\n",
    "            if count >= max_tests:\n",
    "                break\n",
    "                \n",
    "            test_case = {\n",
    "                \"vars\": {\n",
    "                    \"text\": phrase,\n",
    "                    \"target_language\": lang\n",
    "                },\n",
    "                \"assert\": [\n",
    "                    {\"type\": \"python\", \"value\": \"file://custom_assertions.py:evaluate_translation_quality\"},\n",
    "                    {\"type\": \"regex\", \"value\": \".{10,}\"}  # At least 10 characters\n",
    "                ],\n",
    "                \"description\": f\"Translate '{phrase}' to {lang}\"\n",
    "            }\n",
    "            test_cases.append(test_case)\n",
    "            count += 1\n",
    "            \n",
    "        if count >= max_tests:\n",
    "            break\n",
    "    \n",
    "    return test_cases\n",
    "\n",
    "def generate_customer_service_tests(config: Optional[Dict[str, Any]] = None):\n",
    "    \"\"\"Generate customer service evaluation test cases.\"\"\"\n",
    "    \n",
    "    # Realistic customer service scenarios\n",
    "    scenarios = [\n",
    "        {\n",
    "            \"name\": \"Sarah\",\n",
    "            \"question\": \"I received a damaged product, what should I do?\",\n",
    "            \"category\": \"returns\"\n",
    "        },\n",
    "        {\n",
    "            \"name\": \"Mike\", \n",
    "            \"question\": \"Do you have this shirt in size large and blue color?\",\n",
    "            \"category\": \"product_inquiry\"\n",
    "        },\n",
    "        {\n",
    "            \"name\": \"Lisa\",\n",
    "            \"question\": \"My order hasn't arrived yet and it's been 2 weeks\",\n",
    "            \"category\": \"shipping\"\n",
    "        },\n",
    "        {\n",
    "            \"name\": \"Alex\",\n",
    "            \"question\": \"Can I get a discount on my first order?\",\n",
    "            \"category\": \"promotions\"\n",
    "        }\n",
    "    ]\n",
    "    \n",
    "    # Override scenarios with config if provided\n",
    "    if config and \"scenarios\" in config:\n",
    "        scenarios = config[\"scenarios\"]\n",
    "    \n",
    "    test_cases = []\n",
    "    for scenario in scenarios:\n",
    "        test_case = {\n",
    "            \"vars\": {\n",
    "                \"name\": scenario[\"name\"],\n",
    "                \"question\": scenario[\"question\"]\n",
    "            },\n",
    "            \"assert\": [\n",
    "                {\"type\": \"python\", \"value\": \"file://custom_assertions.py:evaluate_customer_service\"},\n",
    "                {\"type\": \"contains\", \"value\": scenario[\"name\"]},\n",
    "                {\"type\": \"llm-rubric\", \"value\": f\"Response appropriately addresses a {scenario['category']} concern\"}\n",
    "            ],\n",
    "            \"description\": f\"Handle {scenario['category']} question from {scenario['name']}\"\n",
    "        }\n",
    "        test_cases.append(test_case)\n",
    "    \n",
    "    return test_cases\n"
   ]
  },
  {
   "cell_type": "raw",
   "metadata": {
    "vscode": {
     "languageId": "raw"
    }
   },
   "source": [
    "## Advanced Python Integration Configuration\n",
    "\n",
    "Now let's create a comprehensive config that demonstrates all Python integration patterns:\n"
   ]
  },
  {
   "cell_type": "code",
   "execution_count": null,
   "metadata": {},
   "outputs": [],
   "source": [
    "%%writefile advanced_config.yaml\n",
    "# yaml-language-server: $schema=https://promptfoo.dev/config-schema.json\n",
    "description: \"Comprehensive Python integration showcase\"\n",
    "prompts:\n",
    "  - \"You're a helpful e-commerce assistant. {{name}} asks: '{{question}}'\"\n",
    "  - \"Translate '{{text}}' to {{target_language}}\"\n",
    "providers:\n",
    "  - openai:o1-mini\n",
    "  - openai:gpt-4.1-mini\n",
    "  - anthropic:claude-3-5-sonnet-20241022\n",
    "\n",
    "# Test cases using different Python patterns\n",
    "tests:\n",
    "  # 1. Basic test with multiple assertion types\n",
    "  - vars:\n",
    "      name: \"Emma\"\n",
    "      question: \"What's your return policy?\"\n",
    "    assert:\n",
    "      - type: contains\n",
    "        value: \"return\"\n",
    "      - type: python\n",
    "        value: \"len(output.split()) >= 20\"  # Inline Python\n",
    "      - type: python\n",
    "        value: \"file://custom_assertions.py:evaluate_customer_service\"  # External function\n",
    "      - type: llm-rubric\n",
    "        value: \"Response is professional and informative\"\n",
    "\n",
    "  # 2. Python test case generators\n",
    "  - file://test_generators.py:generate_customer_service_tests\n",
    "\n",
    "  # 3. Test generator with custom configuration\n",
    "  - path: file://test_generators.py:generate_translation_tests\n",
    "    config:\n",
    "      max_tests: 4\n",
    "      languages: [\"French\", \"Spanish\"]\n",
    "      phrases: [\"Hello world\", \"How are you?\"]\n",
    "\n",
    "  # 4. Complex inline Python assertion\n",
    "  - vars:\n",
    "      name: \"John\"\n",
    "      question: \"Do you have winter boots in size 10?\"\n",
    "    assert:\n",
    "      - type: python\n",
    "        value: |\n",
    "          # Multi-criteria evaluation\n",
    "          criteria = {\n",
    "            'mentions_size': '10' in output,\n",
    "            'mentions_winter': 'winter' in output.lower(),\n",
    "            'mentions_boots': 'boots' in output.lower() or 'footwear' in output.lower(),\n",
    "            'helpful_tone': any(word in output.lower() for word in ['yes', 'available', 'stock', 'have'])\n",
    "          }\n",
    "          \n",
    "          score = sum(criteria.values()) / len(criteria)\n",
    "          \n",
    "          return {\n",
    "            'pass': score >= 0.75,\n",
    "            'score': score,\n",
    "            'reason': f'Met {sum(criteria.values())}/{len(criteria)} criteria',\n",
    "            'namedScores': criteria\n",
    "          }\n"
   ]
  },
  {
   "cell_type": "raw",
   "metadata": {
    "vscode": {
     "languageId": "raw"
    }
   },
   "source": [
    "Run the comprehensive Python integration evaluation:\n"
   ]
  },
  {
   "cell_type": "code",
   "execution_count": null,
   "metadata": {},
   "outputs": [],
   "source": [
    "!npx promptfoo eval -c advanced_config.yaml --no-progress-bar"
   ]
  },
  {
   "cell_type": "raw",
   "metadata": {
    "vscode": {
     "languageId": "raw"
    }
   },
   "source": [
    "## Example 2: Custom Python Function\n",
    "\n",
    "Let's create a simple custom function that solves math problems using Python's built-in capabilities:\n"
   ]
  },
  {
   "cell_type": "code",
   "execution_count": null,
   "metadata": {},
   "outputs": [],
   "source": [
    "%%writefile custom_math.py\n",
    "import sys\n",
    "import re\n",
    "import math\n",
    "\n",
    "def solve_math_problem(question):\n",
    "    \"\"\"Simple math solver using Python\"\"\"\n",
    "    question = question.lower()\n",
    "    \n",
    "    # Handle different types of math problems\n",
    "    if \"cube root\" in question:\n",
    "        # Extract number for cube root\n",
    "        numbers = re.findall(r'\\d+', question)\n",
    "        if numbers:\n",
    "            num = int(numbers[0])\n",
    "            result = round(num ** (1/3), 2)\n",
    "            return f\"The cube root of {num} is {result}\"\n",
    "    \n",
    "    elif \"binary\" in question and \"base 10\" in question:\n",
    "        # Convert binary to decimal\n",
    "        binary_match = re.search(r'\\b[01]+\\b', question)\n",
    "        if binary_match:\n",
    "            binary = binary_match.group()\n",
    "            decimal = int(binary, 2)\n",
    "            return f\"Binary {binary} equals {decimal} in base 10\"\n",
    "    \n",
    "    elif \"fourth root\" in question:\n",
    "        # Extract number for fourth root\n",
    "        numbers = re.findall(r'\\d+', question)\n",
    "        if numbers:\n",
    "            num = int(numbers[0])\n",
    "            result = num ** (1/4)\n",
    "            return f\"The fourth root of {num} is {result}\"\n",
    "    \n",
    "    elif \"magnitude\" in question and \"complex\" in question:\n",
    "        # Handle complex number magnitude\n",
    "        real_match = re.search(r'(\\d+)\\s*\\+', question)\n",
    "        imag_match = re.search(r'\\+\\s*(\\d+)i', question)\n",
    "        if real_match and imag_match:\n",
    "            real = int(real_match.group(1))\n",
    "            imag = int(imag_match.group(1))\n",
    "            magnitude = math.sqrt(real**2 + imag**2)\n",
    "            return f\"The magnitude of {real} + {imag}i is {magnitude}\"\n",
    "    \n",
    "    return f\"Python solver: Unable to solve '{question}'\"\n",
    "\n",
    "if __name__ == \"__main__\":\n",
    "    result = solve_math_problem(sys.argv[1])\n",
    "    print(result)\n"
   ]
  },
  {
   "cell_type": "markdown",
   "metadata": {
    "id": "rRyGlgld-a0C"
   },
   "source": [
    "## Math Problem Configuration\n",
    "\n",
    "Now let's set up a comprehensive evaluation comparing:\n",
    "1. **GPT-4 Turbo** - Direct LLM math reasoning\n",
    "2. **LangChain Math Chain** - Structured math problem solving  \n",
    "3. **Custom Python** - Our own math logic"
   ]
  },
  {
   "cell_type": "code",
   "execution_count": 17,
   "metadata": {
    "colab": {
     "base_uri": "https://localhost:8080/"
    },
    "id": "1SSUsw-X2yZn",
    "outputId": "7c6d1cc9-7fd3-4076-f709-3cfd50601750"
   },
   "outputs": [
    {
     "name": "stdout",
     "output_type": "stream",
     "text": [
      "Overwriting mathconfig.yaml\n"
     ]
    }
   ],
   "source": [
    "%%writefile mathconfig.yaml\n",
    "# yaml-language-server: $schema=https://promptfoo.dev/config-schema.json\n",
    "description: \"Math problem solving: Latest LLMs vs Python\"\n",
    "prompts: mathprompt.txt\n",
    "providers:\n",
    "  - openai:o1-mini\n",
    "  - exec:python langchain_math.py\n",
    "  - exec:python custom_math.py\n",
    "tests:\n",
    "  - vars:\n",
    "      question: What is the cube root of 389017?\n",
    "    assert:\n",
    "      - type: contains\n",
    "        value: \"73\"\n",
    "  - vars:\n",
    "      question: If you have 101101 in binary, what number does it represent in base 10?\n",
    "    assert:\n",
    "      - type: contains\n",
    "        value: \"45\"\n",
    "  - vars:\n",
    "      question: What is the natural logarithm (ln) of 89234?\n",
    "    assert:\n",
    "      - type: contains\n",
    "        value: \"11.39\"\n",
    "  - vars:\n",
    "      question: If a complex number is represented as 3 + 4i, what is its magnitude?\n",
    "    assert:\n",
    "      - type: contains\n",
    "        value: \"5\"\n",
    "  - vars:\n",
    "      question: What is the fourth root of 1296?\n",
    "    assert:\n",
    "      - type: contains\n",
    "        value: \"6\""
   ]
  },
  {
   "cell_type": "markdown",
   "metadata": {
    "id": "c38wkAVA-dsh"
   },
   "source": [
    "And provide a prompt:"
   ]
  },
  {
   "cell_type": "code",
   "execution_count": 12,
   "metadata": {
    "colab": {
     "base_uri": "https://localhost:8080/"
    },
    "id": "CQ8st-b92-HL",
    "outputId": "b5bc9cc9-e543-42c0-ba01-22a6090827f6"
   },
   "outputs": [
    {
     "name": "stdout",
     "output_type": "stream",
     "text": [
      "Overwriting mathprompt.txt\n"
     ]
    }
   ],
   "source": [
    "%%writefile mathprompt.txt\n",
    "Think carefully and answer this math problem: {{question}}"
   ]
  },
  {
   "cell_type": "raw",
   "metadata": {
    "vscode": {
     "languageId": "raw"
    }
   },
   "source": [
    "## Example 3: API Integration\n",
    "\n",
    "Let's create a Python script that calls an external API and compare it with LLM responses:\n"
   ]
  },
  {
   "cell_type": "code",
   "execution_count": null,
   "metadata": {},
   "outputs": [],
   "source": [
    "%%writefile weather_api.py\n",
    "import sys\n",
    "import requests\n",
    "import json\n",
    "\n",
    "def get_weather_info(location):\n",
    "    \"\"\"Get weather information using a public API\"\"\"\n",
    "    try:\n",
    "        # Using OpenWeatherMap API (free tier)\n",
    "        # Note: In production, you'd use a real API key\n",
    "        api_key = \"demo_key\"  # Replace with actual API key\n",
    "        \n",
    "        # For demo purposes, return mock data\n",
    "        weather_data = {\n",
    "            \"New York\": {\"temp\": \"22°C\", \"condition\": \"Partly cloudy\", \"humidity\": \"65%\"},\n",
    "            \"London\": {\"temp\": \"15°C\", \"condition\": \"Rainy\", \"humidity\": \"80%\"},\n",
    "            \"Tokyo\": {\"temp\": \"28°C\", \"condition\": \"Sunny\", \"humidity\": \"55%\"},\n",
    "            \"Paris\": {\"temp\": \"18°C\", \"condition\": \"Overcast\", \"humidity\": \"70%\"}\n",
    "        }\n",
    "        \n",
    "        # Simple location matching\n",
    "        for city, data in weather_data.items():\n",
    "            if city.lower() in location.lower():\n",
    "                return f\"Weather in {city}: {data['temp']}, {data['condition']}, Humidity: {data['humidity']}\"\n",
    "        \n",
    "        return f\"Weather API: Sorry, no weather data available for {location}\"\n",
    "        \n",
    "    except Exception as e:\n",
    "        return f\"Weather API Error: {str(e)}\"\n",
    "\n",
    "if __name__ == \"__main__\":\n",
    "    location = sys.argv[1] if len(sys.argv) > 1 else \"Unknown\"\n",
    "    result = get_weather_info(location)\n",
    "    print(result)\n"
   ]
  },
  {
   "cell_type": "code",
   "execution_count": null,
   "metadata": {},
   "outputs": [],
   "source": [
    "%%writefile weatherconfig.yaml\n",
    "# yaml-language-server: $schema=https://promptfoo.dev/config-schema.json\n",
    "description: \"Weather information: LLM knowledge vs API data\"\n",
    "prompts: \n",
    "  - \"What's the current weather in {{location}}?\"\n",
    "providers:\n",
    "  - openai:gpt-4o-mini\n",
    "  - exec:python weather_api.py\n",
    "tests:\n",
    "  - vars:\n",
    "      location: \"New York\"\n",
    "    assert:\n",
    "      - type: contains\n",
    "        value: \"weather\"\n",
    "  - vars:\n",
    "      location: \"London\"\n",
    "    assert:\n",
    "      - type: contains\n",
    "        value: \"weather\"\n",
    "  - vars:\n",
    "      location: \"Tokyo\"\n",
    "    assert:\n",
    "      - type: contains\n",
    "        value: \"weather\"\n"
   ]
  },
  {
   "cell_type": "raw",
   "metadata": {
    "vscode": {
     "languageId": "raw"
    }
   },
   "source": [
    "Test the weather API example:\n"
   ]
  },
  {
   "cell_type": "code",
   "execution_count": null,
   "metadata": {},
   "outputs": [],
   "source": [
    "!npx promptfoo eval -c weatherconfig.yaml --no-progress-bar"
   ]
  },
  {
   "cell_type": "raw",
   "metadata": {
    "vscode": {
     "languageId": "raw"
    }
   },
   "source": [
    "# Summary\n",
    "\n",
    "This notebook demonstrated several ways to integrate promptfoo with Python:\n",
    "\n",
    "## ✅ **What We Covered:**\n",
    "\n",
    "1. **Modern Setup** - Node.js 22 + latest promptfoo\n",
    "2. **Multi-Model Evaluation** - o1-mini, GPT-4o-mini, Claude-3.5-Sonnet comparisons\n",
    "3. **Python Integration Patterns**:\n",
    "   - **LangChain Integration** - Structured LLM workflows\n",
    "   - **Custom Python Functions** - Your own business logic\n",
    "   - **API Integration** - External data sources vs LLM knowledge\n",
    "\n",
    "## 🔧 **Key Techniques:**\n",
    "\n",
    "- **`exec:python script.py`** - Run any Python code as a provider\n",
    "- **Assertions** - Validate outputs with `contains`, `llm-rubric`, etc.\n",
    "- **Configuration Management** - YAML configs for different evaluation scenarios\n",
    "- **Web Viewer** - Interactive result analysis with `npx promptfoo share`\n",
    "\n",
    "## 🚀 **Next Steps:**\n",
    "\n",
    "- **Try your own Python code** - Replace our examples with your functions\n",
    "- **Add more models** - Test Anthropic Claude, local models, etc.\n",
    "- **Advanced assertions** - Use semantic similarity, custom grading\n",
    "- **CI/CD Integration** - Automate evaluations in your deployment pipeline\n",
    "\n",
    "**Resources:**\n",
    "- [Promptfoo Documentation](https://promptfoo.dev/docs/)\n",
    "- [Python Integration Guide](https://promptfoo.dev/docs/integrations/python/)\n",
    "- [GitHub Repository](https://github.com/promptfoo/promptfoo)\n"
   ]
  },
  {
   "cell_type": "markdown",
   "metadata": {
    "id": "dfauBPgj-fIe"
   },
   "source": [
    "Run the eval to produce a comparison:"
   ]
  },
  {
   "cell_type": "code",
   "execution_count": 19,
   "metadata": {
    "colab": {
     "base_uri": "https://localhost:8080/"
    },
    "id": "IAznI7r-3F1D",
    "outputId": "ce1da4dc-888d-4a3f-cf09-b20e4cfa0e84"
   },
   "outputs": [
    {
     "name": "stdout",
     "output_type": "stream",
     "text": [
      "\n",
      "\u001b[90m┌────────────────────────────────────────\u001b[39m\u001b[90m┬────────────────────────────────────────\u001b[39m\u001b[90m┬────────────────────────────────────────┐\u001b[39m\n",
      "\u001b[90m│\u001b[39m\u001b[1m\u001b[34m question                               \u001b[39m\u001b[22m\u001b[90m│\u001b[39m\u001b[1m\u001b[34m [openai:gpt-4-0613] Think carefully an \u001b[39m\u001b[22m\u001b[90m│\u001b[39m\u001b[1m\u001b[34m [exec:python langchain_example.py] Thi \u001b[39m\u001b[22m\u001b[90m│\u001b[39m\n",
      "\u001b[90m│\u001b[39m\u001b[1m\u001b[34m                                        \u001b[39m\u001b[22m\u001b[90m│\u001b[39m\u001b[1m\u001b[34m d answer this math problem: {{question \u001b[39m\u001b[22m\u001b[90m│\u001b[39m\u001b[1m\u001b[34m nk carefully and answer this math prob \u001b[39m\u001b[22m\u001b[90m│\u001b[39m\n",
      "\u001b[90m│\u001b[39m\u001b[1m\u001b[34m                                        \u001b[39m\u001b[22m\u001b[90m│\u001b[39m\u001b[1m\u001b[34m }}                                     \u001b[39m\u001b[22m\u001b[90m│\u001b[39m\u001b[1m\u001b[34m lem: {{question}}                      \u001b[39m\u001b[22m\u001b[90m│\u001b[39m\n",
      "\u001b[90m├────────────────────────────────────────\u001b[39m\u001b[90m┼────────────────────────────────────────\u001b[39m\u001b[90m┼────────────────────────────────────────┤\u001b[39m\n",
      "\u001b[90m│\u001b[39m What is the cube root of 389017?       \u001b[90m│\u001b[39m \u001b[32m\u001b[1m[PASS] \u001b[22m\u001b[39mThe cube roo                    \u001b[90m│\u001b[39m \u001b[32m\u001b[1m[PASS] \u001b[22m\u001b[39m> Entering n                    \u001b[90m│\u001b[39m\n",
      "\u001b[90m│\u001b[39m                                        \u001b[90m│\u001b[39m t of 389017 is 73.                     \u001b[90m│\u001b[39m ew LLMMathChain chain...               \u001b[90m│\u001b[39m\n",
      "\u001b[90m│\u001b[39m                                        \u001b[90m│\u001b[39m                                        \u001b[90m│\u001b[39m Think carefully and answer this math p \u001b[90m│\u001b[39m\n",
      "\u001b[90m│\u001b[39m                                        \u001b[90m│\u001b[39m                                        \u001b[90m│\u001b[39m roblem: What is the cube root of 38901 \u001b[90m│\u001b[39m\n",
      "\u001b[90m│\u001b[39m                                        \u001b[90m│\u001b[39m                                        \u001b[90m│\u001b[39m 7?                                     \u001b[90m│\u001b[39m\n",
      "\u001b[90m│\u001b[39m                                        \u001b[90m│\u001b[39m                                        \u001b[90m│\u001b[39m ```text                                \u001b[90m│\u001b[39m\n",
      "\u001b[90m│\u001b[39m                                        \u001b[90m│\u001b[39m                                        \u001b[90m│\u001b[39m 389017**(1/3)                          \u001b[90m│\u001b[39m\n",
      "\u001b[90m│\u001b[39m                                        \u001b[90m│\u001b[39m                                        \u001b[90m│\u001b[39m ```                                    \u001b[90m│\u001b[39m\n",
      "\u001b[90m│\u001b[39m                                        \u001b[90m│\u001b[39m                                        \u001b[90m│\u001b[39m ...numexpr.evaluate(\"389017**(1/3)\").. \u001b[90m│\u001b[39m\n",
      "\u001b[90m│\u001b[39m                                        \u001b[90m│\u001b[39m                                        \u001b[90m│\u001b[39m .                                      \u001b[90m│\u001b[39m\n",
      "\u001b[90m│\u001b[39m                                        \u001b[90m│\u001b[39m                                        \u001b[90m│\u001b[39m Answer: 72.99999999999999              \u001b[90m│\u001b[39m\n",
      "\u001b[90m│\u001b[39m                                        \u001b[90m│\u001b[39m                                        \u001b[90m│\u001b[39m > Finished chain.                      \u001b[90m│\u001b[39m\n",
      "\u001b[90m├────────────────────────────────────────\u001b[39m\u001b[90m┼────────────────────────────────────────\u001b[39m\u001b[90m┼────────────────────────────────────────┤\u001b[39m\n",
      "\u001b[90m│\u001b[39m If you have 101101 in binary, what num \u001b[90m│\u001b[39m \u001b[32m\u001b[1m[PASS] \u001b[22m\u001b[39mThe number 1                    \u001b[90m│\u001b[39m \u001b[32m\u001b[1m[PASS] \u001b[22m\u001b[39m> Entering n                    \u001b[90m│\u001b[39m\n",
      "\u001b[90m│\u001b[39m ber does it represent in base 10?      \u001b[90m│\u001b[39m 01101 in binary represents 45 in base  \u001b[90m│\u001b[39m ew LLMMathChain chain...               \u001b[90m│\u001b[39m\n",
      "\u001b[90m│\u001b[39m                                        \u001b[90m│\u001b[39m 10.                                    \u001b[90m│\u001b[39m Think carefully and answer this math p \u001b[90m│\u001b[39m\n",
      "\u001b[90m│\u001b[39m                                        \u001b[90m│\u001b[39m                                        \u001b[90m│\u001b[39m roblem: If you have 101101 in binary,  \u001b[90m│\u001b[39m\n",
      "\u001b[90m│\u001b[39m                                        \u001b[90m│\u001b[39m                                        \u001b[90m│\u001b[39m what number does it represent in base  \u001b[90m│\u001b[39m\n",
      "\u001b[90m│\u001b[39m                                        \u001b[90m│\u001b[39m                                        \u001b[90m│\u001b[39m 10?                                    \u001b[90m│\u001b[39m\n",
      "\u001b[90m│\u001b[39m                                        \u001b[90m│\u001b[39m                                        \u001b[90m│\u001b[39m ```text                                \u001b[90m│\u001b[39m\n",
      "\u001b[90m│\u001b[39m                                        \u001b[90m│\u001b[39m                                        \u001b[90m│\u001b[39m 2**5 + 2**4 + 2**3 + 2**2 + 2**1 + 2** \u001b[90m│\u001b[39m\n",
      "\u001b[90m│\u001b[39m                                        \u001b[90m│\u001b[39m                                        \u001b[90m│\u001b[39m 0                                      \u001b[90m│\u001b[39m\n",
      "\u001b[90m│\u001b[39m                                        \u001b[90m│\u001b[39m                                        \u001b[90m│\u001b[39m ```                                    \u001b[90m│\u001b[39m\n",
      "\u001b[90m│\u001b[39m                                        \u001b[90m│\u001b[39m                                        \u001b[90m│\u001b[39m ...numexpr.evaluate(\"2**5 + 2**4 + 2** \u001b[90m│\u001b[39m\n",
      "\u001b[90m│\u001b[39m                                        \u001b[90m│\u001b[39m                                        \u001b[90m│\u001b[39m 3 + 2...                               \u001b[90m│\u001b[39m\n",
      "\u001b[90m├────────────────────────────────────────\u001b[39m\u001b[90m┼────────────────────────────────────────\u001b[39m\u001b[90m┼────────────────────────────────────────┤\u001b[39m\n",
      "\u001b[90m│\u001b[39m What is the natural logarithm (ln) of  \u001b[90m│\u001b[39m \u001b[32m\u001b[1m[PASS] \u001b[22m\u001b[39mThe natural                     \u001b[90m│\u001b[39m \u001b[32m\u001b[1m[PASS] \u001b[22m\u001b[39m> Entering n                    \u001b[90m│\u001b[39m\n",
      "\u001b[90m│\u001b[39m 89234?                                 \u001b[90m│\u001b[39m logarithm of a number is not something \u001b[90m│\u001b[39m ew LLMMathChain chain...               \u001b[90m│\u001b[39m\n",
      "\u001b[90m│\u001b[39m                                        \u001b[90m│\u001b[39m  that can be easily calculated without \u001b[90m│\u001b[39m Think carefully and answer this math p \u001b[90m│\u001b[39m\n",
      "\u001b[90m│\u001b[39m                                        \u001b[90m│\u001b[39m  a calculator or a computer. However,  \u001b[90m│\u001b[39m roblem: What is the natural logarithm  \u001b[90m│\u001b[39m\n",
      "\u001b[90m│\u001b[39m                                        \u001b[90m│\u001b[39m using a calculator, the natural logari \u001b[90m│\u001b[39m (ln) of 89234?                         \u001b[90m│\u001b[39m\n",
      "\u001b[90m│\u001b[39m                                        \u001b[90m│\u001b[39m thm (ln) of 89234 is approximately 11. \u001b[90m│\u001b[39m ```text                                \u001b[90m│\u001b[39m\n",
      "\u001b[90m│\u001b[39m                                        \u001b[90m│\u001b[39m 397210.                                \u001b[90m│\u001b[39m log(89234)                             \u001b[90m│\u001b[39m\n",
      "\u001b[90m│\u001b[39m                                        \u001b[90m│\u001b[39m                                        \u001b[90m│\u001b[39m ```                                    \u001b[90m│\u001b[39m\n",
      "\u001b[90m│\u001b[39m                                        \u001b[90m│\u001b[39m                                        \u001b[90m│\u001b[39m ...numexpr.evaluate(\"log(89234)\")...   \u001b[90m│\u001b[39m\n",
      "\u001b[90m│\u001b[39m                                        \u001b[90m│\u001b[39m                                        \u001b[90m│\u001b[39m Answer: 11.399017411862108             \u001b[90m│\u001b[39m\n",
      "\u001b[90m│\u001b[39m                                        \u001b[90m│\u001b[39m                                        \u001b[90m│\u001b[39m > Finished chain.                      \u001b[90m│\u001b[39m\n",
      "\u001b[90m├────────────────────────────────────────\u001b[39m\u001b[90m┼────────────────────────────────────────\u001b[39m\u001b[90m┼────────────────────────────────────────┤\u001b[39m\n",
      "\u001b[90m│\u001b[39m If a geometric series has a first term \u001b[90m│\u001b[39m \u001b[32m\u001b[1m[PASS] \u001b[22m\u001b[39mThe sum of t                    \u001b[90m│\u001b[39m \u001b[32m\u001b[1m[PASS] \u001b[22m\u001b[39m> Entering n                    \u001b[90m│\u001b[39m\n",
      "\u001b[90m│\u001b[39m  of 3125 and a common ratio of 0.008,  \u001b[90m│\u001b[39m he first n terms of a geometric series \u001b[90m│\u001b[39m ew LLMMathChain chain...               \u001b[90m│\u001b[39m\n",
      "\u001b[90m│\u001b[39m what is the sum of the first 20 terms? \u001b[90m│\u001b[39m  can be found using the formula S_n =  \u001b[90m│\u001b[39m Think carefully and answer this math p \u001b[90m│\u001b[39m\n",
      "\u001b[90m│\u001b[39m                                        \u001b[90m│\u001b[39m a * (1 - r^n) / (1 - r), where a is th \u001b[90m│\u001b[39m roblem: If a geometric series has a fi \u001b[90m│\u001b[39m\n",
      "\u001b[90m│\u001b[39m                                        \u001b[90m│\u001b[39m e first term, r is the common ratio, a \u001b[90m│\u001b[39m rst term of 3125 and a common ratio of \u001b[90m│\u001b[39m\n",
      "\u001b[90m│\u001b[39m                                        \u001b[90m│\u001b[39m nd n is the number of terms.           \u001b[90m│\u001b[39m  0.008, what is the sum of the first 2 \u001b[90m│\u001b[39m\n",
      "\u001b[90m│\u001b[39m                                        \u001b[90m│\u001b[39m Substituting the given values into the \u001b[90m│\u001b[39m 0 terms?                               \u001b[90m│\u001b[39m\n",
      "\u001b[90m│\u001b[39m                                        \u001b[90m│\u001b[39m  formula, we get:                      \u001b[90m│\u001b[39m ```text                                \u001b[90m│\u001b[39m\n",
      "\u001b[90m│\u001b[39m                                        \u001b[90m│\u001b[39m ...                                    \u001b[90m│\u001b[39m 3125 * (1 - 0.008**20) / (1 - 0.008)   \u001b[90m│\u001b[39m\n",
      "\u001b[90m│\u001b[39m                                        \u001b[90m│\u001b[39m                                        \u001b[90m│\u001b[39m ```                                    \u001b[90m│\u001b[39m\n",
      "\u001b[90m│\u001b[39m                                        \u001b[90m│\u001b[39m                                        \u001b[90m│\u001b[39m ......                                 \u001b[90m│\u001b[39m\n",
      "\u001b[90m├────────────────────────────────────────\u001b[39m\u001b[90m┼────────────────────────────────────────\u001b[39m\u001b[90m┼────────────────────────────────────────┤\u001b[39m\n",
      "\u001b[90m│\u001b[39m A number in base 7 is 3526. What is th \u001b[90m│\u001b[39m \u001b[32m\u001b[1m[PASS] \u001b[22m\u001b[39mThe number i                    \u001b[90m│\u001b[39m \u001b[32m\u001b[1m[PASS] \u001b[22m\u001b[39m> Entering n                    \u001b[90m│\u001b[39m\n",
      "\u001b[90m│\u001b[39m is number in base 10?                  \u001b[90m│\u001b[39m s 1303 in base 10.                     \u001b[90m│\u001b[39m ew LLMMathChain chain...               \u001b[90m│\u001b[39m\n",
      "\u001b[90m│\u001b[39m                                        \u001b[90m│\u001b[39m                                        \u001b[90m│\u001b[39m Think carefully and answer this math p \u001b[90m│\u001b[39m\n",
      "\u001b[90m│\u001b[39m                                        \u001b[90m│\u001b[39m                                        \u001b[90m│\u001b[39m roblem: A number in base 7 is 3526. Wh \u001b[90m│\u001b[39m\n",
      "\u001b[90m│\u001b[39m                                        \u001b[90m│\u001b[39m                                        \u001b[90m│\u001b[39m at is this number in base 10?          \u001b[90m│\u001b[39m\n",
      "\u001b[90m│\u001b[39m                                        \u001b[90m│\u001b[39m                                        \u001b[90m│\u001b[39m ```text                                \u001b[90m│\u001b[39m\n",
      "\u001b[90m│\u001b[39m                                        \u001b[90m│\u001b[39m                                        \u001b[90m│\u001b[39m 7**4*3 + 7**3*5 + 7**2*2 + 7**1*6      \u001b[90m│\u001b[39m\n",
      "\u001b[90m│\u001b[39m                                        \u001b[90m│\u001b[39m                                        \u001b[90m│\u001b[39m ```                                    \u001b[90m│\u001b[39m\n",
      "\u001b[90m│\u001b[39m                                        \u001b[90m│\u001b[39m                                        \u001b[90m│\u001b[39m ...numexpr.evaluate(\"7**4*3 + 7**3*5 + \u001b[90m│\u001b[39m\n",
      "\u001b[90m│\u001b[39m                                        \u001b[90m│\u001b[39m                                        \u001b[90m│\u001b[39m  7**2*2 + 7**1*6\")...                  \u001b[90m│\u001b[39m\n",
      "\u001b[90m│\u001b[39m                                        \u001b[90m│\u001b[39m                                        \u001b[90m│\u001b[39m ...                                    \u001b[90m│\u001b[39m\n",
      "\u001b[90m├────────────────────────────────────────\u001b[39m\u001b[90m┼────────────────────────────────────────\u001b[39m\u001b[90m┼────────────────────────────────────────┤\u001b[39m\n",
      "\u001b[90m│\u001b[39m If a complex number is represented as  \u001b[90m│\u001b[39m \u001b[32m\u001b[1m[PASS] \u001b[22m\u001b[39mThe magnitud                    \u001b[90m│\u001b[39m \u001b[32m\u001b[1m[PASS] \u001b[22m\u001b[39m> Entering n                    \u001b[90m│\u001b[39m\n",
      "\u001b[90m│\u001b[39m 3 + 4i, what is its magnitude?         \u001b[90m│\u001b[39m e of a complex number is calculated us \u001b[90m│\u001b[39m ew LLMMathChain chain...               \u001b[90m│\u001b[39m\n",
      "\u001b[90m│\u001b[39m                                        \u001b[90m│\u001b[39m ing the formula √(a² + b²), where a an \u001b[90m│\u001b[39m Think carefully and answer this math p \u001b[90m│\u001b[39m\n",
      "\u001b[90m│\u001b[39m                                        \u001b[90m│\u001b[39m d b are the real and imaginary parts o \u001b[90m│\u001b[39m roblem: If a complex number is represe \u001b[90m│\u001b[39m\n",
      "\u001b[90m│\u001b[39m                                        \u001b[90m│\u001b[39m f the complex number, respectively.    \u001b[90m│\u001b[39m nted as 3 + 4i, what is its magnitude? \u001b[90m│\u001b[39m\n",
      "\u001b[90m│\u001b[39m                                        \u001b[90m│\u001b[39m So, for the complex number 3 + 4i, its \u001b[90m│\u001b[39m ```text                                \u001b[90m│\u001b[39m\n",
      "\u001b[90m│\u001b[39m                                        \u001b[90m│\u001b[39m  magnitude would be √(3² + 4²) = √(9 + \u001b[90m│\u001b[39m (3**2 + 4**2)**(1/2)                   \u001b[90m│\u001b[39m\n",
      "\u001b[90m│\u001b[39m                                        \u001b[90m│\u001b[39m  16) = √25...                          \u001b[90m│\u001b[39m ```                                    \u001b[90m│\u001b[39m\n",
      "\u001b[90m│\u001b[39m                                        \u001b[90m│\u001b[39m                                        \u001b[90m│\u001b[39m ...numexpr.evaluate(\"(3**2 + 4**2)**(1 \u001b[90m│\u001b[39m\n",
      "\u001b[90m│\u001b[39m                                        \u001b[90m│\u001b[39m                                        \u001b[90m│\u001b[39m /2)\")...                               \u001b[90m│\u001b[39m\n",
      "\u001b[90m│\u001b[39m                                        \u001b[90m│\u001b[39m                                        \u001b[90m│\u001b[39m Answer: 5.0                            \u001b[90m│\u001b[39m\n",
      "\u001b[90m│\u001b[39m                                        \u001b[90m│\u001b[39m                                        \u001b[90m│\u001b[39m > Fin...                               \u001b[90m│\u001b[39m\n",
      "\u001b[90m├────────────────────────────────────────\u001b[39m\u001b[90m┼────────────────────────────────────────\u001b[39m\u001b[90m┼────────────────────────────────────────┤\u001b[39m\n",
      "\u001b[90m│\u001b[39m What is the fourth root of 1296?       \u001b[90m│\u001b[39m \u001b[32m\u001b[1m[PASS] \u001b[22m\u001b[39m6                               \u001b[90m│\u001b[39m \u001b[32m\u001b[1m[PASS] \u001b[22m\u001b[39m> Entering n                    \u001b[90m│\u001b[39m\n",
      "\u001b[90m│\u001b[39m                                        \u001b[90m│\u001b[39m                                        \u001b[90m│\u001b[39m ew LLMMathChain chain...               \u001b[90m│\u001b[39m\n",
      "\u001b[90m│\u001b[39m                                        \u001b[90m│\u001b[39m                                        \u001b[90m│\u001b[39m Think carefully and answer this math p \u001b[90m│\u001b[39m\n",
      "\u001b[90m│\u001b[39m                                        \u001b[90m│\u001b[39m                                        \u001b[90m│\u001b[39m roblem: What is the fourth root of 129 \u001b[90m│\u001b[39m\n",
      "\u001b[90m│\u001b[39m                                        \u001b[90m│\u001b[39m                                        \u001b[90m│\u001b[39m 6?                                     \u001b[90m│\u001b[39m\n",
      "\u001b[90m│\u001b[39m                                        \u001b[90m│\u001b[39m                                        \u001b[90m│\u001b[39m ```text                                \u001b[90m│\u001b[39m\n",
      "\u001b[90m│\u001b[39m                                        \u001b[90m│\u001b[39m                                        \u001b[90m│\u001b[39m 1296**(1/4)                            \u001b[90m│\u001b[39m\n",
      "\u001b[90m│\u001b[39m                                        \u001b[90m│\u001b[39m                                        \u001b[90m│\u001b[39m ```                                    \u001b[90m│\u001b[39m\n",
      "\u001b[90m│\u001b[39m                                        \u001b[90m│\u001b[39m                                        \u001b[90m│\u001b[39m ...numexpr.evaluate(\"1296**(1/4)\")...  \u001b[90m│\u001b[39m\n",
      "\u001b[90m│\u001b[39m                                        \u001b[90m│\u001b[39m                                        \u001b[90m│\u001b[39m Answer: 6.0                            \u001b[90m│\u001b[39m\n",
      "\u001b[90m│\u001b[39m                                        \u001b[90m│\u001b[39m                                        \u001b[90m│\u001b[39m > Finished chain.                      \u001b[90m│\u001b[39m\n",
      "\u001b[90m└────────────────────────────────────────\u001b[39m\u001b[90m┴────────────────────────────────────────\u001b[39m\u001b[90m┴────────────────────────────────────────┘\u001b[39m\n",
      "======================================================================\n",
      "\u001b[32m✔\u001b[39m Evaluation complete.\n",
      "\n",
      "Run \u001b[92mpromptfoo view\u001b[39m to use the local web viewer\n",
      "Run \u001b[92mpromptfoo share\u001b[39m to create a shareable URL\n",
      "======================================================================\n",
      "\u001b[32m\u001b[1mSuccesses: 14\u001b[22m\u001b[39m\n",
      "\u001b[31m\u001b[1mFailures: 0\u001b[22m\u001b[39m\n",
      "Token usage: Total 49, Prompt 34, Completion 15, Cached 448\n",
      "Done.\n"
     ]
    }
   ],
   "source": [
    "!npx promptfoo@latest eval -c mathconfig.yaml --no-progress-bar"
   ]
  },
  {
   "cell_type": "markdown",
   "metadata": {
    "id": "UdjUshgS-kg8"
   },
   "source": [
    "And view the results in the web viewer:"
   ]
  },
  {
   "cell_type": "code",
   "execution_count": 20,
   "metadata": {
    "colab": {
     "base_uri": "https://localhost:8080/"
    },
    "id": "ZOgBi_Er3rgv",
    "outputId": "3150bee8-7fa8-4fdd-eb34-d0b2790c076c"
   },
   "outputs": [
    {
     "name": "stdout",
     "output_type": "stream",
     "text": [
      "View results: \u001b[92m\u001b[1mhttps://app.promptfoo.dev/eval/f:f447942f-42a9-46fa-b38e-3ec7bf860418\u001b[22m\u001b[39m\n"
     ]
    }
   ],
   "source": [
    "!npx promptfoo@latest share --yes"
   ]
  }
 ],
 "metadata": {
  "colab": {
   "provenance": []
  },
  "kernelspec": {
   "display_name": "Python 3",
   "name": "python3"
  },
  "language_info": {
   "name": "python"
  }
 },
 "nbformat": 4,
 "nbformat_minor": 0
}
